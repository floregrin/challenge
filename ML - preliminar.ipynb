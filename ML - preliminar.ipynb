{
 "cells": [
  {
   "cell_type": "code",
   "execution_count": 8,
   "metadata": {},
   "outputs": [],
   "source": [
    "import pandas as pd"
   ]
  },
  {
   "cell_type": "code",
   "execution_count": 212,
   "metadata": {},
   "outputs": [],
   "source": [
    "df=pd.read_csv('_sm_oh.csv')"
   ]
  },
  {
   "cell_type": "code",
   "execution_count": 213,
   "metadata": {},
   "outputs": [
    {
     "data": {
      "text/html": [
       "<div>\n",
       "<style scoped>\n",
       "    .dataframe tbody tr th:only-of-type {\n",
       "        vertical-align: middle;\n",
       "    }\n",
       "\n",
       "    .dataframe tbody tr th {\n",
       "        vertical-align: top;\n",
       "    }\n",
       "\n",
       "    .dataframe thead th {\n",
       "        text-align: right;\n",
       "    }\n",
       "</style>\n",
       "<table border=\"1\" class=\"dataframe\">\n",
       "  <thead>\n",
       "    <tr style=\"text-align: right;\">\n",
       "      <th></th>\n",
       "      <th>Unnamed: 0</th>\n",
       "      <th>Unnamed: 0.1</th>\n",
       "      <th>time_value</th>\n",
       "      <th>full_time_work_prop</th>\n",
       "      <th>stderr_full_time_work_prop</th>\n",
       "      <th>sample_size_full_time_work_prop</th>\n",
       "      <th>part_time_work_prop</th>\n",
       "      <th>stderr_part_time_work_prop</th>\n",
       "      <th>sample_size_part_time_work_prop</th>\n",
       "      <th>smoothed_search</th>\n",
       "      <th>...</th>\n",
       "      <th>deaths_7dav_incidence_num_smooth1</th>\n",
       "      <th>deaths_7dav_incidence_num_smooth2</th>\n",
       "      <th>date_smooth1</th>\n",
       "      <th>date_smooth2</th>\n",
       "      <th>days_smooth1</th>\n",
       "      <th>days_smooth2</th>\n",
       "      <th>fbf_mas_smooth1</th>\n",
       "      <th>fbf_mas_smooth2</th>\n",
       "      <th>fbf_men_smooth1</th>\n",
       "      <th>fbf_men_smooth2</th>\n",
       "    </tr>\n",
       "  </thead>\n",
       "  <tbody>\n",
       "    <tr>\n",
       "      <th>0</th>\n",
       "      <td>74</td>\n",
       "      <td>74</td>\n",
       "      <td>2020-04-16</td>\n",
       "      <td>0.041828</td>\n",
       "      <td>0.000304</td>\n",
       "      <td>9213</td>\n",
       "      <td>0.055476</td>\n",
       "      <td>0.000372</td>\n",
       "      <td>9213.0</td>\n",
       "      <td>17.122565</td>\n",
       "      <td>...</td>\n",
       "      <td>25.034093</td>\n",
       "      <td>24.922236</td>\n",
       "      <td>1.586995e+18</td>\n",
       "      <td>1.586995e+18</td>\n",
       "      <td>0.0</td>\n",
       "      <td>0.0</td>\n",
       "      <td>22.542816</td>\n",
       "      <td>22.582367</td>\n",
       "      <td>21.240487</td>\n",
       "      <td>21.311931</td>\n",
       "    </tr>\n",
       "    <tr>\n",
       "      <th>1</th>\n",
       "      <td>75</td>\n",
       "      <td>75</td>\n",
       "      <td>2020-04-17</td>\n",
       "      <td>0.041459</td>\n",
       "      <td>0.000348</td>\n",
       "      <td>9212</td>\n",
       "      <td>0.055604</td>\n",
       "      <td>0.000404</td>\n",
       "      <td>9212.0</td>\n",
       "      <td>12.673587</td>\n",
       "      <td>...</td>\n",
       "      <td>26.835432</td>\n",
       "      <td>27.181411</td>\n",
       "      <td>1.587082e+18</td>\n",
       "      <td>1.587082e+18</td>\n",
       "      <td>1.0</td>\n",
       "      <td>1.0</td>\n",
       "      <td>22.520633</td>\n",
       "      <td>22.458225</td>\n",
       "      <td>21.415578</td>\n",
       "      <td>21.348271</td>\n",
       "    </tr>\n",
       "    <tr>\n",
       "      <th>2</th>\n",
       "      <td>76</td>\n",
       "      <td>76</td>\n",
       "      <td>2020-04-18</td>\n",
       "      <td>0.026292</td>\n",
       "      <td>0.000217</td>\n",
       "      <td>9210</td>\n",
       "      <td>0.037350</td>\n",
       "      <td>0.000275</td>\n",
       "      <td>9210.0</td>\n",
       "      <td>11.764859</td>\n",
       "      <td>...</td>\n",
       "      <td>29.138686</td>\n",
       "      <td>29.501771</td>\n",
       "      <td>1.587168e+18</td>\n",
       "      <td>1.587168e+18</td>\n",
       "      <td>2.0</td>\n",
       "      <td>2.0</td>\n",
       "      <td>22.328603</td>\n",
       "      <td>22.308745</td>\n",
       "      <td>21.379722</td>\n",
       "      <td>21.342846</td>\n",
       "    </tr>\n",
       "    <tr>\n",
       "      <th>3</th>\n",
       "      <td>77</td>\n",
       "      <td>77</td>\n",
       "      <td>2020-04-19</td>\n",
       "      <td>0.028494</td>\n",
       "      <td>0.000260</td>\n",
       "      <td>9212</td>\n",
       "      <td>0.038316</td>\n",
       "      <td>0.000309</td>\n",
       "      <td>9212.0</td>\n",
       "      <td>9.575618</td>\n",
       "      <td>...</td>\n",
       "      <td>31.992044</td>\n",
       "      <td>31.785402</td>\n",
       "      <td>1.587254e+18</td>\n",
       "      <td>1.587254e+18</td>\n",
       "      <td>3.0</td>\n",
       "      <td>3.0</td>\n",
       "      <td>22.127828</td>\n",
       "      <td>22.152867</td>\n",
       "      <td>21.292641</td>\n",
       "      <td>21.303790</td>\n",
       "    </tr>\n",
       "    <tr>\n",
       "      <th>4</th>\n",
       "      <td>78</td>\n",
       "      <td>78</td>\n",
       "      <td>2020-04-20</td>\n",
       "      <td>0.037371</td>\n",
       "      <td>0.000278</td>\n",
       "      <td>9220</td>\n",
       "      <td>0.051551</td>\n",
       "      <td>0.000340</td>\n",
       "      <td>9220.0</td>\n",
       "      <td>10.859135</td>\n",
       "      <td>...</td>\n",
       "      <td>34.543022</td>\n",
       "      <td>33.752580</td>\n",
       "      <td>1.587341e+18</td>\n",
       "      <td>1.587341e+18</td>\n",
       "      <td>4.0</td>\n",
       "      <td>4.0</td>\n",
       "      <td>21.967920</td>\n",
       "      <td>22.009444</td>\n",
       "      <td>21.214744</td>\n",
       "      <td>21.246272</td>\n",
       "    </tr>\n",
       "  </tbody>\n",
       "</table>\n",
       "<p>5 rows × 84 columns</p>\n",
       "</div>"
      ],
      "text/plain": [
       "   Unnamed: 0  Unnamed: 0.1  time_value  full_time_work_prop  \\\n",
       "0          74            74  2020-04-16             0.041828   \n",
       "1          75            75  2020-04-17             0.041459   \n",
       "2          76            76  2020-04-18             0.026292   \n",
       "3          77            77  2020-04-19             0.028494   \n",
       "4          78            78  2020-04-20             0.037371   \n",
       "\n",
       "   stderr_full_time_work_prop  sample_size_full_time_work_prop  \\\n",
       "0                    0.000304                             9213   \n",
       "1                    0.000348                             9212   \n",
       "2                    0.000217                             9210   \n",
       "3                    0.000260                             9212   \n",
       "4                    0.000278                             9220   \n",
       "\n",
       "   part_time_work_prop  stderr_part_time_work_prop  \\\n",
       "0             0.055476                    0.000372   \n",
       "1             0.055604                    0.000404   \n",
       "2             0.037350                    0.000275   \n",
       "3             0.038316                    0.000309   \n",
       "4             0.051551                    0.000340   \n",
       "\n",
       "   sample_size_part_time_work_prop  smoothed_search  ...  \\\n",
       "0                           9213.0        17.122565  ...   \n",
       "1                           9212.0        12.673587  ...   \n",
       "2                           9210.0        11.764859  ...   \n",
       "3                           9212.0         9.575618  ...   \n",
       "4                           9220.0        10.859135  ...   \n",
       "\n",
       "   deaths_7dav_incidence_num_smooth1  deaths_7dav_incidence_num_smooth2  \\\n",
       "0                          25.034093                          24.922236   \n",
       "1                          26.835432                          27.181411   \n",
       "2                          29.138686                          29.501771   \n",
       "3                          31.992044                          31.785402   \n",
       "4                          34.543022                          33.752580   \n",
       "\n",
       "   date_smooth1  date_smooth2  days_smooth1  days_smooth2  fbf_mas_smooth1  \\\n",
       "0  1.586995e+18  1.586995e+18           0.0           0.0        22.542816   \n",
       "1  1.587082e+18  1.587082e+18           1.0           1.0        22.520633   \n",
       "2  1.587168e+18  1.587168e+18           2.0           2.0        22.328603   \n",
       "3  1.587254e+18  1.587254e+18           3.0           3.0        22.127828   \n",
       "4  1.587341e+18  1.587341e+18           4.0           4.0        21.967920   \n",
       "\n",
       "   fbf_mas_smooth2  fbf_men_smooth1  fbf_men_smooth2  \n",
       "0        22.582367        21.240487        21.311931  \n",
       "1        22.458225        21.415578        21.348271  \n",
       "2        22.308745        21.379722        21.342846  \n",
       "3        22.152867        21.292641        21.303790  \n",
       "4        22.009444        21.214744        21.246272  \n",
       "\n",
       "[5 rows x 84 columns]"
      ]
     },
     "execution_count": 213,
     "metadata": {},
     "output_type": "execute_result"
    }
   ],
   "source": [
    "df.head()"
   ]
  },
  {
   "cell_type": "code",
   "execution_count": 214,
   "metadata": {},
   "outputs": [
    {
     "data": {
      "text/plain": [
       "Index(['Unnamed: 0', 'Unnamed: 0.1', 'time_value', 'full_time_work_prop',\n",
       "       'stderr_full_time_work_prop', 'sample_size_full_time_work_prop',\n",
       "       'part_time_work_prop', 'stderr_part_time_work_prop',\n",
       "       'sample_size_part_time_work_prop', 'smoothed_search',\n",
       "       'stderr_smoothed_search', 'sample_size_smoothed_search',\n",
       "       'smoothed_adj_cli', 'stderr_smoothed_adj_cli',\n",
       "       'sample_size_smoothed_adj_cli', 'smoothed_cli', 'stderr_smoothed_cli',\n",
       "       'sample_size_smoothed_cli', 'smoothed_hh_cmnty_cli',\n",
       "       'stderr_smoothed_hh_cmnty_cli', 'sample_size_smoothed_hh_cmnty_cli',\n",
       "       'nmf_day_doc_fbc_fbs_ght', 'stderr_nmf_day_doc_fbc_fbs_ght',\n",
       "       'sample_size_nmf_day_doc_fbc_fbs_ght', 'covid_ag_smoothed_pct_positive',\n",
       "       'stderr_covid_ag_smoothed_pct_positive',\n",
       "       'sample_size_covid_ag_smoothed_pct_positive', 'smoothed_adj_covid19',\n",
       "       'stderr_smoothed_adj_covid19', 'sample_size_smoothed_adj_covid19',\n",
       "       'confirmed_7dav_incidence_num', 'stderr_confirmed_7dav_incidence_num',\n",
       "       'sample_size_confirmed_7dav_incidence_num', 'deaths_7dav_incidence_num',\n",
       "       'stderr_deaths_7dav_incidence_num',\n",
       "       'sample_size_deaths_7dav_incidence_num', 'date', 'days', 'fbf_mas',\n",
       "       'fbf_men', 'stderr_full_time_work_prop_smooth1',\n",
       "       'stderr_full_time_work_prop_smooth2',\n",
       "       'sample_size_full_time_work_prop_smooth1',\n",
       "       'sample_size_full_time_work_prop_smooth2',\n",
       "       'part_time_work_prop_smooth1', 'part_time_work_prop_smooth2',\n",
       "       'stderr_part_time_work_prop_smooth1',\n",
       "       'stderr_part_time_work_prop_smooth2',\n",
       "       'sample_size_part_time_work_prop_smooth1',\n",
       "       'sample_size_part_time_work_prop_smooth2', 'smoothed_search_smooth1',\n",
       "       'smoothed_search_smooth2', 'smoothed_adj_cli_smooth1',\n",
       "       'smoothed_adj_cli_smooth2', 'smoothed_cli_smooth1',\n",
       "       'smoothed_cli_smooth2', 'stderr_smoothed_cli_smooth1',\n",
       "       'stderr_smoothed_cli_smooth2', 'sample_size_smoothed_cli_smooth1',\n",
       "       'sample_size_smoothed_cli_smooth2', 'smoothed_hh_cmnty_cli_smooth1',\n",
       "       'smoothed_hh_cmnty_cli_smooth2', 'stderr_smoothed_hh_cmnty_cli_smooth1',\n",
       "       'stderr_smoothed_hh_cmnty_cli_smooth2',\n",
       "       'sample_size_smoothed_hh_cmnty_cli_smooth1',\n",
       "       'sample_size_smoothed_hh_cmnty_cli_smooth2',\n",
       "       'nmf_day_doc_fbc_fbs_ght_smooth1', 'nmf_day_doc_fbc_fbs_ght_smooth2',\n",
       "       'stderr_nmf_day_doc_fbc_fbs_ght_smooth1',\n",
       "       'stderr_nmf_day_doc_fbc_fbs_ght_smooth2',\n",
       "       'smoothed_adj_covid19_smooth1', 'smoothed_adj_covid19_smooth2',\n",
       "       'confirmed_7dav_incidence_num_smooth1',\n",
       "       'confirmed_7dav_incidence_num_smooth2',\n",
       "       'deaths_7dav_incidence_num_smooth1',\n",
       "       'deaths_7dav_incidence_num_smooth2', 'date_smooth1', 'date_smooth2',\n",
       "       'days_smooth1', 'days_smooth2', 'fbf_mas_smooth1', 'fbf_mas_smooth2',\n",
       "       'fbf_men_smooth1', 'fbf_men_smooth2'],\n",
       "      dtype='object')"
      ]
     },
     "execution_count": 214,
     "metadata": {},
     "output_type": "execute_result"
    }
   ],
   "source": [
    "df.columns"
   ]
  },
  {
   "cell_type": "code",
   "execution_count": 397,
   "metadata": {},
   "outputs": [],
   "source": [
    "cases=df['confirmed_7dav_incidence_num'][7:].values"
   ]
  },
  {
   "cell_type": "code",
   "execution_count": 398,
   "metadata": {},
   "outputs": [],
   "source": [
    "early=df['nmf_day_doc_fbc_fbs_ght'][:-7].values"
   ]
  },
  {
   "cell_type": "code",
   "execution_count": 399,
   "metadata": {},
   "outputs": [],
   "source": [
    "pct_change=df['stderr_nmf_day_doc_fbc_fbs_ght'][:-7].values"
   ]
  },
  {
   "cell_type": "code",
   "execution_count": 400,
   "metadata": {},
   "outputs": [],
   "source": [
    "d.set_index(pd.to_datetime(df['time_value'][:-7]), inplace=True)"
   ]
  },
  {
   "cell_type": "code",
   "execution_count": 401,
   "metadata": {},
   "outputs": [],
   "source": [
    "d = pd.DataFrame()\n",
    "d['cases']=cases\n",
    "d['earlyInd']=early\n",
    "d['pct_change']=pct_change"
   ]
  },
  {
   "cell_type": "code",
   "execution_count": 402,
   "metadata": {},
   "outputs": [
    {
     "data": {
      "text/html": [
       "<div>\n",
       "<style scoped>\n",
       "    .dataframe tbody tr th:only-of-type {\n",
       "        vertical-align: middle;\n",
       "    }\n",
       "\n",
       "    .dataframe tbody tr th {\n",
       "        vertical-align: top;\n",
       "    }\n",
       "\n",
       "    .dataframe thead th {\n",
       "        text-align: right;\n",
       "    }\n",
       "</style>\n",
       "<table border=\"1\" class=\"dataframe\">\n",
       "  <thead>\n",
       "    <tr style=\"text-align: right;\">\n",
       "      <th></th>\n",
       "      <th>cases</th>\n",
       "      <th>earlyInd</th>\n",
       "      <th>pct_change</th>\n",
       "    </tr>\n",
       "  </thead>\n",
       "  <tbody>\n",
       "    <tr>\n",
       "      <th>0</th>\n",
       "      <td>896.857143</td>\n",
       "      <td>1.002329</td>\n",
       "      <td>0.035750</td>\n",
       "    </tr>\n",
       "    <tr>\n",
       "      <th>1</th>\n",
       "      <td>863.857143</td>\n",
       "      <td>0.970479</td>\n",
       "      <td>0.040600</td>\n",
       "    </tr>\n",
       "    <tr>\n",
       "      <th>2</th>\n",
       "      <td>764.142857</td>\n",
       "      <td>0.958182</td>\n",
       "      <td>0.033116</td>\n",
       "    </tr>\n",
       "    <tr>\n",
       "      <th>3</th>\n",
       "      <td>624.714286</td>\n",
       "      <td>0.915411</td>\n",
       "      <td>0.033441</td>\n",
       "    </tr>\n",
       "    <tr>\n",
       "      <th>4</th>\n",
       "      <td>487.285714</td>\n",
       "      <td>0.910914</td>\n",
       "      <td>0.032691</td>\n",
       "    </tr>\n",
       "  </tbody>\n",
       "</table>\n",
       "</div>"
      ],
      "text/plain": [
       "        cases  earlyInd  pct_change\n",
       "0  896.857143  1.002329    0.035750\n",
       "1  863.857143  0.970479    0.040600\n",
       "2  764.142857  0.958182    0.033116\n",
       "3  624.714286  0.915411    0.033441\n",
       "4  487.285714  0.910914    0.032691"
      ]
     },
     "execution_count": 402,
     "metadata": {},
     "output_type": "execute_result"
    }
   ],
   "source": [
    "d.head()"
   ]
  },
  {
   "cell_type": "code",
   "execution_count": 375,
   "metadata": {},
   "outputs": [],
   "source": [
    "forecast_col='cases'"
   ]
  },
  {
   "cell_type": "code",
   "execution_count": 376,
   "metadata": {},
   "outputs": [
    {
     "data": {
      "text/plain": [
       "cases         0\n",
       "earlyInd      0\n",
       "pct_change    0\n",
       "dtype: int64"
      ]
     },
     "execution_count": 376,
     "metadata": {},
     "output_type": "execute_result"
    }
   ],
   "source": [
    "d.isna().sum()"
   ]
  },
  {
   "cell_type": "code",
   "execution_count": 228,
   "metadata": {},
   "outputs": [],
   "source": [
    "from sklearn import preprocessing, model_selection, svm"
   ]
  },
  {
   "cell_type": "code",
   "execution_count": 229,
   "metadata": {},
   "outputs": [],
   "source": [
    "from sklearn.linear_model import LinearRegression"
   ]
  },
  {
   "cell_type": "code",
   "execution_count": 232,
   "metadata": {},
   "outputs": [],
   "source": [
    "import math"
   ]
  },
  {
   "cell_type": "code",
   "execution_count": 301,
   "metadata": {},
   "outputs": [],
   "source": [
    "import datetime\n",
    "from matplotlib import style\n",
    "style.use('ggplot')"
   ]
  },
  {
   "cell_type": "code",
   "execution_count": 377,
   "metadata": {},
   "outputs": [],
   "source": [
    "X=np.array(d)"
   ]
  },
  {
   "cell_type": "code",
   "execution_count": 378,
   "metadata": {},
   "outputs": [],
   "source": [
    "forecast_col='cases'"
   ]
  },
  {
   "cell_type": "code",
   "execution_count": 380,
   "metadata": {},
   "outputs": [
    {
     "data": {
      "text/plain": [
       "8"
      ]
     },
     "execution_count": 380,
     "metadata": {},
     "output_type": "execute_result"
    }
   ],
   "source": [
    "forecast_out"
   ]
  },
  {
   "cell_type": "code",
   "execution_count": 379,
   "metadata": {},
   "outputs": [],
   "source": [
    "forecast_out=int(math.ceil(0.05*len(d)))"
   ]
  },
  {
   "cell_type": "code",
   "execution_count": 381,
   "metadata": {},
   "outputs": [],
   "source": [
    "d['label']=d[forecast_col].shift(-forecast_out)"
   ]
  },
  {
   "cell_type": "code",
   "execution_count": 382,
   "metadata": {},
   "outputs": [
    {
     "data": {
      "text/html": [
       "<div>\n",
       "<style scoped>\n",
       "    .dataframe tbody tr th:only-of-type {\n",
       "        vertical-align: middle;\n",
       "    }\n",
       "\n",
       "    .dataframe tbody tr th {\n",
       "        vertical-align: top;\n",
       "    }\n",
       "\n",
       "    .dataframe thead th {\n",
       "        text-align: right;\n",
       "    }\n",
       "</style>\n",
       "<table border=\"1\" class=\"dataframe\">\n",
       "  <thead>\n",
       "    <tr style=\"text-align: right;\">\n",
       "      <th></th>\n",
       "      <th>cases</th>\n",
       "      <th>earlyInd</th>\n",
       "      <th>pct_change</th>\n",
       "      <th>label</th>\n",
       "    </tr>\n",
       "    <tr>\n",
       "      <th>time_value</th>\n",
       "      <th></th>\n",
       "      <th></th>\n",
       "      <th></th>\n",
       "      <th></th>\n",
       "    </tr>\n",
       "  </thead>\n",
       "  <tbody>\n",
       "    <tr>\n",
       "      <th>2020-04-23</th>\n",
       "      <td>414.000000</td>\n",
       "      <td>0.907774</td>\n",
       "      <td>0.027001</td>\n",
       "      <td>863.857143</td>\n",
       "    </tr>\n",
       "    <tr>\n",
       "      <th>2020-04-24</th>\n",
       "      <td>461.285714</td>\n",
       "      <td>0.864820</td>\n",
       "      <td>0.026585</td>\n",
       "      <td>764.142857</td>\n",
       "    </tr>\n",
       "    <tr>\n",
       "      <th>2020-04-25</th>\n",
       "      <td>566.285714</td>\n",
       "      <td>0.880434</td>\n",
       "      <td>0.027390</td>\n",
       "      <td>624.714286</td>\n",
       "    </tr>\n",
       "    <tr>\n",
       "      <th>2020-04-26</th>\n",
       "      <td>709.428571</td>\n",
       "      <td>0.815560</td>\n",
       "      <td>0.027463</td>\n",
       "      <td>487.285714</td>\n",
       "    </tr>\n",
       "    <tr>\n",
       "      <th>2020-04-27</th>\n",
       "      <td>849.000000</td>\n",
       "      <td>0.797671</td>\n",
       "      <td>0.032658</td>\n",
       "      <td>434.857143</td>\n",
       "    </tr>\n",
       "  </tbody>\n",
       "</table>\n",
       "</div>"
      ],
      "text/plain": [
       "                 cases  earlyInd  pct_change       label\n",
       "time_value                                              \n",
       "2020-04-23  414.000000  0.907774    0.027001  863.857143\n",
       "2020-04-24  461.285714  0.864820    0.026585  764.142857\n",
       "2020-04-25  566.285714  0.880434    0.027390  624.714286\n",
       "2020-04-26  709.428571  0.815560    0.027463  487.285714\n",
       "2020-04-27  849.000000  0.797671    0.032658  434.857143"
      ]
     },
     "execution_count": 382,
     "metadata": {},
     "output_type": "execute_result"
    }
   ],
   "source": [
    "d.head()"
   ]
  },
  {
   "cell_type": "code",
   "execution_count": 316,
   "metadata": {},
   "outputs": [],
   "source": [
    "d.dropna(inplace=True)"
   ]
  },
  {
   "cell_type": "code",
   "execution_count": 383,
   "metadata": {},
   "outputs": [
    {
     "data": {
      "text/html": [
       "<div>\n",
       "<style scoped>\n",
       "    .dataframe tbody tr th:only-of-type {\n",
       "        vertical-align: middle;\n",
       "    }\n",
       "\n",
       "    .dataframe tbody tr th {\n",
       "        vertical-align: top;\n",
       "    }\n",
       "\n",
       "    .dataframe thead th {\n",
       "        text-align: right;\n",
       "    }\n",
       "</style>\n",
       "<table border=\"1\" class=\"dataframe\">\n",
       "  <thead>\n",
       "    <tr style=\"text-align: right;\">\n",
       "      <th></th>\n",
       "      <th>cases</th>\n",
       "      <th>earlyInd</th>\n",
       "      <th>pct_change</th>\n",
       "      <th>label</th>\n",
       "    </tr>\n",
       "    <tr>\n",
       "      <th>time_value</th>\n",
       "      <th></th>\n",
       "      <th></th>\n",
       "      <th></th>\n",
       "      <th></th>\n",
       "    </tr>\n",
       "  </thead>\n",
       "  <tbody>\n",
       "    <tr>\n",
       "      <th>2020-09-08</th>\n",
       "      <td>1159.857143</td>\n",
       "      <td>0.616165</td>\n",
       "      <td>0.027559</td>\n",
       "      <td>NaN</td>\n",
       "    </tr>\n",
       "    <tr>\n",
       "      <th>2020-09-09</th>\n",
       "      <td>1169.142857</td>\n",
       "      <td>0.656686</td>\n",
       "      <td>0.024623</td>\n",
       "      <td>NaN</td>\n",
       "    </tr>\n",
       "    <tr>\n",
       "      <th>2020-09-10</th>\n",
       "      <td>1183.571429</td>\n",
       "      <td>0.639980</td>\n",
       "      <td>0.026508</td>\n",
       "      <td>NaN</td>\n",
       "    </tr>\n",
       "    <tr>\n",
       "      <th>2020-09-11</th>\n",
       "      <td>1188.571429</td>\n",
       "      <td>0.671039</td>\n",
       "      <td>0.027543</td>\n",
       "      <td>NaN</td>\n",
       "    </tr>\n",
       "    <tr>\n",
       "      <th>2020-09-12</th>\n",
       "      <td>1207.000000</td>\n",
       "      <td>0.684567</td>\n",
       "      <td>0.028035</td>\n",
       "      <td>NaN</td>\n",
       "    </tr>\n",
       "  </tbody>\n",
       "</table>\n",
       "</div>"
      ],
      "text/plain": [
       "                  cases  earlyInd  pct_change  label\n",
       "time_value                                          \n",
       "2020-09-08  1159.857143  0.616165    0.027559    NaN\n",
       "2020-09-09  1169.142857  0.656686    0.024623    NaN\n",
       "2020-09-10  1183.571429  0.639980    0.026508    NaN\n",
       "2020-09-11  1188.571429  0.671039    0.027543    NaN\n",
       "2020-09-12  1207.000000  0.684567    0.028035    NaN"
      ]
     },
     "execution_count": 383,
     "metadata": {},
     "output_type": "execute_result"
    }
   ],
   "source": [
    "d.tail()"
   ]
  },
  {
   "cell_type": "code",
   "execution_count": 384,
   "metadata": {},
   "outputs": [],
   "source": [
    "X=np.array(d.drop(['label'],1))"
   ]
  },
  {
   "cell_type": "code",
   "execution_count": 385,
   "metadata": {},
   "outputs": [],
   "source": [
    "y=np.array(d['label'])"
   ]
  },
  {
   "cell_type": "code",
   "execution_count": 386,
   "metadata": {},
   "outputs": [],
   "source": [
    "X=preprocessing.scale(X)"
   ]
  },
  {
   "cell_type": "code",
   "execution_count": 387,
   "metadata": {},
   "outputs": [],
   "source": [
    "X=X[:-forecast_out]\n",
    "X_lately=X[-forecast_out:]"
   ]
  },
  {
   "cell_type": "code",
   "execution_count": 251,
   "metadata": {},
   "outputs": [],
   "source": [
    "#X=X[:-forecast_out+1]"
   ]
  },
  {
   "cell_type": "code",
   "execution_count": 388,
   "metadata": {},
   "outputs": [],
   "source": [
    "d.dropna(inplace=True)"
   ]
  },
  {
   "cell_type": "code",
   "execution_count": 389,
   "metadata": {},
   "outputs": [],
   "source": [
    "y=np.array(d['label'])"
   ]
  },
  {
   "cell_type": "code",
   "execution_count": 390,
   "metadata": {},
   "outputs": [
    {
     "name": "stdout",
     "output_type": "stream",
     "text": [
      "135 135\n"
     ]
    }
   ],
   "source": [
    "print(len(X),len(y))"
   ]
  },
  {
   "cell_type": "code",
   "execution_count": 391,
   "metadata": {},
   "outputs": [],
   "source": [
    "X_train, X_test, y_train, y_test = model_selection.train_test_split(X,y,test_size=0.2)"
   ]
  },
  {
   "cell_type": "code",
   "execution_count": 392,
   "metadata": {},
   "outputs": [
    {
     "name": "stdout",
     "output_type": "stream",
     "text": [
      "0.7715205576982227\n"
     ]
    }
   ],
   "source": [
    "clf = LinearRegression(n_jobs=-1)\n",
    "clf.fit(X_train, y_train)\n",
    "accuracy = clf.score(X_test,y_test)\n",
    "print(accuracy)"
   ]
  },
  {
   "cell_type": "code",
   "execution_count": 393,
   "metadata": {},
   "outputs": [
    {
     "name": "stdout",
     "output_type": "stream",
     "text": [
      "8\n"
     ]
    }
   ],
   "source": [
    "print(forecast_out)"
   ]
  },
  {
   "cell_type": "code",
   "execution_count": 394,
   "metadata": {},
   "outputs": [
    {
     "name": "stdout",
     "output_type": "stream",
     "text": [
      "[918.87943895 924.3012036  921.84624995 917.80458805 940.12624302\n",
      " 937.50320369 966.08265565 983.252869  ] 0.7715205576982227 8\n"
     ]
    }
   ],
   "source": [
    "forecast_set=clf.predict(X_lately)\n",
    "print(forecast_set, accuracy, forecast_out)"
   ]
  },
  {
   "cell_type": "code",
   "execution_count": 395,
   "metadata": {},
   "outputs": [],
   "source": [
    "d['Forecast'] = np.nan"
   ]
  },
  {
   "cell_type": "code",
   "execution_count": 396,
   "metadata": {},
   "outputs": [
    {
     "data": {
      "image/png": "[encoded data removed]",
      "text/plain": [
       "<Figure size 432x288 with 1 Axes>"
      ]
     },
     "metadata": {},
     "output_type": "display_data"
    }
   ],
   "source": [
    "last_date = d.iloc[-1].name\n",
    "last_unix = last_date.timestamp()\n",
    "one_day = 86400\n",
    "next_unix = last_unix + one_day\n",
    "for i in forecast_set:\n",
    "    next_date = datetime.datetime.fromtimestamp(next_unix)\n",
    "    next_unix += one_day\n",
    "    d.loc[next_date] = [np.nan for _ in range(len(d.columns)-1)] + [i]\n",
    "    \n",
    "d['cases'].plot()\n",
    "d['Forecast'].plot()\n",
    "plt.legend(loc=4)\n",
    "plt.xlabel('Date')\n",
    "plt.ylabel('cases')\n",
    "plt.show()"
   ]
  },
  {
   "cell_type": "code",
   "execution_count": 17,
   "metadata": {},
   "outputs": [
    {
     "data": {
      "text/plain": [
       "<matplotlib.axes._subplots.AxesSubplot at 0x7f3e9b7190d0>"
      ]
     },
     "execution_count": 17,
     "metadata": {},
     "output_type": "execute_result"
    },
    {
     "data": {
      "image/png": "[encoded data removed]",
      "text/plain": [
       "<Figure size 432x288 with 1 Axes>"
      ]
     },
     "metadata": {
      "needs_background": "light"
     },
     "output_type": "display_data"
    }
   ],
   "source": [
    "df.plot(x='days',y=['deaths_7dav_incidence_num_smooth1','deaths_7dav_incidence_num_smooth2'])"
   ]
  },
  {
   "cell_type": "code",
   "execution_count": 176,
   "metadata": {},
   "outputs": [],
   "source": [
    "redcol=[col for col in df.columns if 'smooth2' in col]"
   ]
  },
  {
   "cell_type": "code",
   "execution_count": 177,
   "metadata": {},
   "outputs": [
    {
     "data": {
      "text/plain": [
       "['stderr_full_time_work_prop_smooth2',\n",
       " 'sample_size_full_time_work_prop_smooth2',\n",
       " 'part_time_work_prop_smooth2',\n",
       " 'stderr_part_time_work_prop_smooth2',\n",
       " 'sample_size_part_time_work_prop_smooth2',\n",
       " 'smoothed_search_smooth2',\n",
       " 'smoothed_adj_cli_smooth2',\n",
       " 'smoothed_cli_smooth2',\n",
       " 'stderr_smoothed_cli_smooth2',\n",
       " 'sample_size_smoothed_cli_smooth2',\n",
       " 'smoothed_hh_cmnty_cli_smooth2',\n",
       " 'stderr_smoothed_hh_cmnty_cli_smooth2',\n",
       " 'sample_size_smoothed_hh_cmnty_cli_smooth2',\n",
       " 'nmf_day_doc_fbc_fbs_ght_smooth2',\n",
       " 'stderr_nmf_day_doc_fbc_fbs_ght_smooth2',\n",
       " 'smoothed_adj_covid19_smooth2',\n",
       " 'confirmed_7dav_incidence_num_smooth2',\n",
       " 'deaths_7dav_incidence_num_smooth2',\n",
       " 'date_smooth2',\n",
       " 'days_smooth2',\n",
       " 'fbf_mas_smooth2',\n",
       " 'fbf_men_smooth2']"
      ]
     },
     "execution_count": 177,
     "metadata": {},
     "output_type": "execute_result"
    }
   ],
   "source": [
    "redcol\n"
   ]
  },
  {
   "cell_type": "code",
   "execution_count": 79,
   "metadata": {},
   "outputs": [],
   "source": [
    "redcol.remove('days_smooth2')"
   ]
  },
  {
   "cell_type": "code",
   "execution_count": 80,
   "metadata": {},
   "outputs": [
    {
     "data": {
      "text/plain": [
       "9"
      ]
     },
     "execution_count": 80,
     "metadata": {},
     "output_type": "execute_result"
    }
   ],
   "source": [
    "len(redcol)"
   ]
  },
  {
   "cell_type": "code",
   "execution_count": 178,
   "metadata": {},
   "outputs": [],
   "source": [
    "redf=df[redcol]"
   ]
  },
  {
   "cell_type": "code",
   "execution_count": 179,
   "metadata": {},
   "outputs": [
    {
     "data": {
      "text/plain": [
       "stderr_full_time_work_prop_smooth2           0\n",
       "sample_size_full_time_work_prop_smooth2      0\n",
       "part_time_work_prop_smooth2                  0\n",
       "stderr_part_time_work_prop_smooth2           0\n",
       "sample_size_part_time_work_prop_smooth2      0\n",
       "smoothed_search_smooth2                      0\n",
       "smoothed_adj_cli_smooth2                     0\n",
       "smoothed_cli_smooth2                         0\n",
       "stderr_smoothed_cli_smooth2                  0\n",
       "sample_size_smoothed_cli_smooth2             0\n",
       "smoothed_hh_cmnty_cli_smooth2                0\n",
       "stderr_smoothed_hh_cmnty_cli_smooth2         0\n",
       "sample_size_smoothed_hh_cmnty_cli_smooth2    0\n",
       "nmf_day_doc_fbc_fbs_ght_smooth2              0\n",
       "stderr_nmf_day_doc_fbc_fbs_ght_smooth2       0\n",
       "smoothed_adj_covid19_smooth2                 0\n",
       "confirmed_7dav_incidence_num_smooth2         0\n",
       "deaths_7dav_incidence_num_smooth2            0\n",
       "date_smooth2                                 0\n",
       "days_smooth2                                 0\n",
       "fbf_mas_smooth2                              0\n",
       "fbf_men_smooth2                              0\n",
       "dtype: int64"
      ]
     },
     "execution_count": 179,
     "metadata": {},
     "output_type": "execute_result"
    }
   ],
   "source": [
    "redf.isna().sum()"
   ]
  },
  {
   "cell_type": "code",
   "execution_count": 191,
   "metadata": {},
   "outputs": [
    {
     "data": {
      "text/plain": [
       "<matplotlib.axes._subplots.AxesSubplot at 0x7f3e70bceac0>"
      ]
     },
     "execution_count": 191,
     "metadata": {},
     "output_type": "execute_result"
    },
    {
     "data": {
      "image/png": "[encoded data removed]",
      "text/plain": [
       "<Figure size 432x288 with 1 Axes>"
      ]
     },
     "metadata": {
      "needs_background": "light"
     },
     "output_type": "display_data"
    }
   ],
   "source": [
    "redf.plot(x='nmf_day_doc_fbc_fbs_ght_smooth2',y='confirmed_7dav_incidence_num_smooth2')"
   ]
  },
  {
   "cell_type": "code",
   "execution_count": 210,
   "metadata": {},
   "outputs": [],
   "source": [
    "df=pd.DataFrame()\n",
    "df['earlyINd']=redf['nmf_day_doc_fbc_fbs_ght_smooth2']\n",
    "df['cases']=redf['confirmed_7dav_incidence_num_smooth2']\n",
    "df['deaths*27']=redf['deaths_7dav_incidence_num_smooth2']*27"
   ]
  },
  {
   "cell_type": "code",
   "execution_count": 211,
   "metadata": {},
   "outputs": [
    {
     "data": {
      "text/plain": [
       "<matplotlib.axes._subplots.AxesSubplot at 0x7f3e708e6130>"
      ]
     },
     "execution_count": 211,
     "metadata": {},
     "output_type": "execute_result"
    },
    {
     "data": {
      "image/png": "[encoded data removed]",
      "text/plain": [
       "<Figure size 432x288 with 1 Axes>"
      ]
     },
     "metadata": {
      "needs_background": "light"
     },
     "output_type": "display_data"
    }
   ],
   "source": [
    "df.plot(x='earlyINd',y=['cases','deaths*27'])"
   ]
  },
  {
   "cell_type": "code",
   "execution_count": 190,
   "metadata": {},
   "outputs": [
    {
     "data": {
      "text/plain": [
       "<matplotlib.axes._subplots.AxesSubplot at 0x7f3e70cf3370>"
      ]
     },
     "execution_count": 190,
     "metadata": {},
     "output_type": "execute_result"
    },
    {
     "data": {
      "image/png": "[encoded data removed]",
      "text/plain": [
       "<Figure size 432x288 with 1 Axes>"
      ]
     },
     "metadata": {
      "needs_background": "light"
     },
     "output_type": "display_data"
    }
   ],
   "source": [
    "redf.plot(x='days_smooth2',y=['sample_size_part_time_work_prop_smooth2','sample_size_smoothed_cli_smooth2','sample_size_smoothed_hh_cmnty_cli_smooth2'])"
   ]
  },
  {
   "cell_type": "code",
   "execution_count": 187,
   "metadata": {},
   "outputs": [
    {
     "data": {
      "text/plain": [
       "<matplotlib.axes._subplots.AxesSubplot at 0x7f3e710a3a30>"
      ]
     },
     "execution_count": 187,
     "metadata": {},
     "output_type": "execute_result"
    },
    {
     "data": {
      "image/png": "[encoded data removed]",
      "text/plain": [
       "<Figure size 432x288 with 1 Axes>"
      ]
     },
     "metadata": {
      "needs_background": "light"
     },
     "output_type": "display_data"
    }
   ],
   "source": [
    "redf.plot(x='days_smooth2',y='sample_size_part_time_work_prop_smooth2')"
   ]
  },
  {
   "cell_type": "code",
   "execution_count": 188,
   "metadata": {},
   "outputs": [
    {
     "data": {
      "text/plain": [
       "<matplotlib.axes._subplots.AxesSubplot at 0x7f3e70e9f700>"
      ]
     },
     "execution_count": 188,
     "metadata": {},
     "output_type": "execute_result"
    },
    {
     "data": {
      "image/png": "[encoded data removed]",
      "text/plain": [
       "<Figure size 432x288 with 1 Axes>"
      ]
     },
     "metadata": {
      "needs_background": "light"
     },
     "output_type": "display_data"
    }
   ],
   "source": [
    "redf.plot(x='days_smooth2',y='sample_size_smoothed_cli_smooth2')"
   ]
  },
  {
   "cell_type": "code",
   "execution_count": 189,
   "metadata": {},
   "outputs": [
    {
     "data": {
      "text/plain": [
       "<matplotlib.axes._subplots.AxesSubplot at 0x7f3e70dcd760>"
      ]
     },
     "execution_count": 189,
     "metadata": {},
     "output_type": "execute_result"
    },
    {
     "data": {
      "image/png": "[encoded data removed]",
      "text/plain": [
       "<Figure size 432x288 with 1 Axes>"
      ]
     },
     "metadata": {
      "needs_background": "light"
     },
     "output_type": "display_data"
    }
   ],
   "source": [
    "redf.plot(x='days_smooth2',y='sample_size_smoothed_hh_cmnty_cli_smooth2')"
   ]
  },
  {
   "cell_type": "code",
   "execution_count": null,
   "metadata": {},
   "outputs": [],
   "source": [
    "df=pd.DataFrame()\n",
    "df['partHigh']=(redf['part_time_work_prop_smooth2']+redf['stderr_part_time_work_prop_smooth2'])/redf['sample_size_part_time_work_prop_smooth2']\n",
    "df['partLow']=(redf['part_time_work_prop_smooth2']-redf['stderr_part_time_work_prop_smooth2'])/redf['sample_size_part_time_work_prop_smooth2']\n",
    "\n",
    "df['earlyIndHigh'] = (redf['nmf_day_doc_fbc_fbs_ght_smooth2']+redf['stderr_nmf_day_doc_fbc_fbs_ght_smooth2'])\n",
    "df['earlyIndLow'] = (redf['nmf_day_doc_fbc_fbs_ght_smooth2']+redf['stderr_nmf_day_doc_fbc_fbs_ght_smooth2'])\n",
    "\n",
    "df['hospAdmission'] = redf['smoothed_adj_covid19_smooth2']\n",
    "\n",
    "df['cases']=redf['confirmed_7dav_incidence_num_smooth2']\n",
    "df['deaths']=redf['deaths_7dav_incidence_num_smooth2']"
   ]
  },
  {
   "cell_type": "code",
   "execution_count": 183,
   "metadata": {},
   "outputs": [],
   "source": [
    "df=pd.DataFrame()\n",
    "df['partHigh']=(redf['part_time_work_prop_smooth2']+redf['stderr_part_time_work_prop_smooth2'])/redf['sample_size_part_time_work_prop_smooth2']\n",
    "df['partLow']=(redf['part_time_work_prop_smooth2']-redf['stderr_part_time_work_prop_smooth2'])/redf['sample_size_part_time_work_prop_smooth2']\n",
    "\n",
    "df['earlyIndHigh'] = (redf['nmf_day_doc_fbc_fbs_ght_smooth2']+redf['stderr_nmf_day_doc_fbc_fbs_ght_smooth2'])\n",
    "df['earlyIndLow'] = (redf['nmf_day_doc_fbc_fbs_ght_smooth2']+redf['stderr_nmf_day_doc_fbc_fbs_ght_smooth2'])\n",
    "\n",
    "df['hospAdmission'] = redf['smoothed_adj_covid19_smooth2']\n",
    "\n",
    "df['cases']=redf['confirmed_7dav_incidence_num_smooth2']\n",
    "df['deaths']=redf['deaths_7dav_incidence_num_smooth2']"
   ]
  },
  {
   "cell_type": "code",
   "execution_count": 184,
   "metadata": {},
   "outputs": [],
   "source": [
    "df.to_csv('OH_test2.csv')"
   ]
  },
  {
   "cell_type": "code",
   "execution_count": 181,
   "metadata": {},
   "outputs": [],
   "source": [
    "df=pd.DataFrame()\n",
    "df['partHigh']=(redf['part_time_work_prop_smooth2']+redf['stderr_part_time_work_prop_smooth2'])/redf['sample_size_part_time_work_prop_smooth2']\n",
    "df['partLow']=(redf['part_time_work_prop_smooth2']-redf['stderr_part_time_work_prop_smooth2'])/redf['sample_size_part_time_work_prop_smooth2']\n",
    "\n",
    "df['search'] = redf['smoothed_search_smooth2']\n",
    "\n",
    "df['doctorVisits'] = redf['smoothed_adj_cli_smooth2']\n",
    "\n",
    "df['symptomsHigh'] = (redf['smoothed_cli_smooth2']+redf['stderr_smoothed_cli_smooth2'])/redf['sample_size_smoothed_cli_smooth2']\n",
    "df['symptomsLow'] = (redf['smoothed_cli_smooth2']-redf['stderr_smoothed_cli_smooth2'])/redf['sample_size_smoothed_cli_smooth2']\n",
    "\n",
    "df['symptomsInCmtyHigh'] = (redf['smoothed_hh_cmnty_cli_smooth2']+redf['stderr_smoothed_hh_cmnty_cli_smooth2'])/redf['sample_size_smoothed_hh_cmnty_cli_smooth2']\n",
    "df['symptomsInCmtyLow'] = (redf['smoothed_hh_cmnty_cli_smooth2']+redf['stderr_smoothed_hh_cmnty_cli_smooth2'])/redf['sample_size_smoothed_hh_cmnty_cli_smooth2']\n",
    "\n",
    "df['hospAdmission'] = redf['smoothed_adj_covid19_smooth2']\n",
    "\n",
    "df['cases']=redf['confirmed_7dav_incidence_num_smooth2']\n",
    "df['deaths']=redf['deaths_7dav_incidence_num_smooth2']"
   ]
  },
  {
   "cell_type": "code",
   "execution_count": 182,
   "metadata": {},
   "outputs": [],
   "source": [
    "df.to_csv('OH_test1.csv')"
   ]
  },
  {
   "cell_type": "code",
   "execution_count": 82,
   "metadata": {},
   "outputs": [
    {
     "data": {
      "text/html": [
       "<div>\n",
       "<style scoped>\n",
       "    .dataframe tbody tr th:only-of-type {\n",
       "        vertical-align: middle;\n",
       "    }\n",
       "\n",
       "    .dataframe tbody tr th {\n",
       "        vertical-align: top;\n",
       "    }\n",
       "\n",
       "    .dataframe thead th {\n",
       "        text-align: right;\n",
       "    }\n",
       "</style>\n",
       "<table border=\"1\" class=\"dataframe\">\n",
       "  <thead>\n",
       "    <tr style=\"text-align: right;\">\n",
       "      <th></th>\n",
       "      <th>part_time_work_prop_smooth2</th>\n",
       "      <th>smoothed_search_smooth2</th>\n",
       "      <th>smoothed_adj_cli_smooth2</th>\n",
       "      <th>smoothed_cli_smooth2</th>\n",
       "      <th>smoothed_hh_cmnty_cli_smooth2</th>\n",
       "      <th>nmf_day_doc_fbc_fbs_ght_smooth2</th>\n",
       "      <th>smoothed_adj_covid19_smooth2</th>\n",
       "      <th>confirmed_7dav_incidence_num_smooth2</th>\n",
       "      <th>deaths_7dav_incidence_num_smooth2</th>\n",
       "    </tr>\n",
       "  </thead>\n",
       "  <tbody>\n",
       "    <tr>\n",
       "      <th>0</th>\n",
       "      <td>0.053997</td>\n",
       "      <td>15.701678</td>\n",
       "      <td>0.795110</td>\n",
       "      <td>0.716002</td>\n",
       "      <td>21.947149</td>\n",
       "      <td>0.997343</td>\n",
       "      <td>5.702840</td>\n",
       "      <td>390.395582</td>\n",
       "      <td>24.922236</td>\n",
       "    </tr>\n",
       "    <tr>\n",
       "      <th>1</th>\n",
       "      <td>0.049367</td>\n",
       "      <td>13.460489</td>\n",
       "      <td>0.783001</td>\n",
       "      <td>0.718848</td>\n",
       "      <td>21.903248</td>\n",
       "      <td>0.972855</td>\n",
       "      <td>5.733842</td>\n",
       "      <td>493.057178</td>\n",
       "      <td>27.181411</td>\n",
       "    </tr>\n",
       "    <tr>\n",
       "      <th>2</th>\n",
       "      <td>0.045816</td>\n",
       "      <td>11.772045</td>\n",
       "      <td>0.770781</td>\n",
       "      <td>0.717288</td>\n",
       "      <td>21.825795</td>\n",
       "      <td>0.950334</td>\n",
       "      <td>5.780925</td>\n",
       "      <td>603.565563</td>\n",
       "      <td>29.501771</td>\n",
       "    </tr>\n",
       "    <tr>\n",
       "      <th>3</th>\n",
       "      <td>0.045602</td>\n",
       "      <td>10.963746</td>\n",
       "      <td>0.759719</td>\n",
       "      <td>0.708979</td>\n",
       "      <td>21.728328</td>\n",
       "      <td>0.931629</td>\n",
       "      <td>5.861810</td>\n",
       "      <td>718.027117</td>\n",
       "      <td>31.785402</td>\n",
       "    </tr>\n",
       "    <tr>\n",
       "      <th>4</th>\n",
       "      <td>0.048486</td>\n",
       "      <td>11.205584</td>\n",
       "      <td>0.759651</td>\n",
       "      <td>0.693757</td>\n",
       "      <td>21.627858</td>\n",
       "      <td>0.919504</td>\n",
       "      <td>5.971064</td>\n",
       "      <td>819.013266</td>\n",
       "      <td>33.752580</td>\n",
       "    </tr>\n",
       "  </tbody>\n",
       "</table>\n",
       "</div>"
      ],
      "text/plain": [
       "   part_time_work_prop_smooth2  smoothed_search_smooth2  \\\n",
       "0                     0.053997                15.701678   \n",
       "1                     0.049367                13.460489   \n",
       "2                     0.045816                11.772045   \n",
       "3                     0.045602                10.963746   \n",
       "4                     0.048486                11.205584   \n",
       "\n",
       "   smoothed_adj_cli_smooth2  smoothed_cli_smooth2  \\\n",
       "0                  0.795110              0.716002   \n",
       "1                  0.783001              0.718848   \n",
       "2                  0.770781              0.717288   \n",
       "3                  0.759719              0.708979   \n",
       "4                  0.759651              0.693757   \n",
       "\n",
       "   smoothed_hh_cmnty_cli_smooth2  nmf_day_doc_fbc_fbs_ght_smooth2  \\\n",
       "0                      21.947149                         0.997343   \n",
       "1                      21.903248                         0.972855   \n",
       "2                      21.825795                         0.950334   \n",
       "3                      21.728328                         0.931629   \n",
       "4                      21.627858                         0.919504   \n",
       "\n",
       "   smoothed_adj_covid19_smooth2  confirmed_7dav_incidence_num_smooth2  \\\n",
       "0                      5.702840                            390.395582   \n",
       "1                      5.733842                            493.057178   \n",
       "2                      5.780925                            603.565563   \n",
       "3                      5.861810                            718.027117   \n",
       "4                      5.971064                            819.013266   \n",
       "\n",
       "   deaths_7dav_incidence_num_smooth2  \n",
       "0                          24.922236  \n",
       "1                          27.181411  \n",
       "2                          29.501771  \n",
       "3                          31.785402  \n",
       "4                          33.752580  "
      ]
     },
     "execution_count": 82,
     "metadata": {},
     "output_type": "execute_result"
    }
   ],
   "source": [
    "redf.head()"
   ]
  },
  {
   "cell_type": "code",
   "execution_count": 48,
   "metadata": {},
   "outputs": [],
   "source": [
    "import matplotlib.pyplot as plt\n",
    "import numpy as np\n",
    "import seaborn as sns\n",
    "%matplotlib inline"
   ]
  },
  {
   "cell_type": "code",
   "execution_count": 83,
   "metadata": {},
   "outputs": [
    {
     "data": {
      "text/plain": [
       "StandardScaler()"
      ]
     },
     "execution_count": 83,
     "metadata": {},
     "output_type": "execute_result"
    }
   ],
   "source": [
    "from sklearn.preprocessing import StandardScaler\n",
    "scaler = StandardScaler()\n",
    "scaler.fit(redf)"
   ]
  },
  {
   "cell_type": "code",
   "execution_count": 84,
   "metadata": {},
   "outputs": [],
   "source": [
    "scaled_data = scaler.transform(redf)"
   ]
  },
  {
   "cell_type": "code",
   "execution_count": 85,
   "metadata": {},
   "outputs": [
    {
     "data": {
      "text/plain": [
       "PCA(n_components=2)"
      ]
     },
     "execution_count": 85,
     "metadata": {},
     "output_type": "execute_result"
    }
   ],
   "source": [
    "from sklearn.decomposition import PCA\n",
    "pca = PCA(n_components=2)\n",
    "pca.fit(scaled_data)"
   ]
  },
  {
   "cell_type": "code",
   "execution_count": 86,
   "metadata": {},
   "outputs": [],
   "source": [
    "x_pca = pca.transform(scaled_data)"
   ]
  },
  {
   "cell_type": "code",
   "execution_count": 87,
   "metadata": {},
   "outputs": [
    {
     "data": {
      "text/plain": [
       "(150, 9)"
      ]
     },
     "execution_count": 87,
     "metadata": {},
     "output_type": "execute_result"
    }
   ],
   "source": [
    "scaled_data.shape"
   ]
  },
  {
   "cell_type": "code",
   "execution_count": 92,
   "metadata": {},
   "outputs": [],
   "source": [
    "scdf=pd.DataFrame(scaled_data)\n",
    "#scaled_data.to_csv('scaled_data.csv')"
   ]
  },
  {
   "cell_type": "code",
   "execution_count": 93,
   "metadata": {},
   "outputs": [],
   "source": [
    "scdf.to_csv('scaled_data.csv')"
   ]
  },
  {
   "cell_type": "code",
   "execution_count": 88,
   "metadata": {},
   "outputs": [
    {
     "data": {
      "text/plain": [
       "(150, 2)"
      ]
     },
     "execution_count": 88,
     "metadata": {},
     "output_type": "execute_result"
    }
   ],
   "source": [
    "x_pca.shape"
   ]
  },
  {
   "cell_type": "code",
   "execution_count": 94,
   "metadata": {},
   "outputs": [],
   "source": [
    "x_pcadf=pd.DataFrame(x_pca)"
   ]
  },
  {
   "cell_type": "code",
   "execution_count": 96,
   "metadata": {},
   "outputs": [],
   "source": [
    "x_pcadf.to_csv('xpca_data.csv')"
   ]
  },
  {
   "cell_type": "code",
   "execution_count": 89,
   "metadata": {},
   "outputs": [
    {
     "data": {
      "image/png": "[encoded data removed]",
      "text/plain": [
       "<Figure size 576x432 with 1 Axes>"
      ]
     },
     "metadata": {
      "needs_background": "light"
     },
     "output_type": "display_data"
    }
   ],
   "source": [
    "plt.figure(figsize=(8,6))\n",
    "plt.scatter(x_pca[:,0],x_pca[:,1],c=redf['confirmed_7dav_incidence_num_smooth2'].values,cmap='rainbow')\n",
    "plt.xlabel('First principal component')\n",
    "plt.ylabel('Second Principal Component')\n",
    "plt.savefig('pcaOH2PCAconfirmed_7dav_incidence_num_smooth2_notdays.png')"
   ]
  },
  {
   "cell_type": "code",
   "execution_count": 90,
   "metadata": {},
   "outputs": [
    {
     "data": {
      "image/png": "[encoded data removed]",
      "text/plain": [
       "<Figure size 864x432 with 2 Axes>"
      ]
     },
     "metadata": {
      "needs_background": "light"
     },
     "output_type": "display_data"
    }
   ],
   "source": [
    "map= pd.DataFrame(pca.components_, columns=redf.columns)\n",
    "plt.figure(figsize=(12,6))\n",
    "sns.heatmap(map,cmap='twilight')\n",
    "plt.savefig('mapOH2PCAnotdays.png', bbox_inches='tight')"
   ]
  },
  {
   "cell_type": "code",
   "execution_count": 73,
   "metadata": {},
   "outputs": [],
   "source": [
    "redf.to_csv('reduced_oh.csv')"
   ]
  },
  {
   "cell_type": "code",
   "execution_count": 114,
   "metadata": {},
   "outputs": [],
   "source": [
    "X=np.zeros((140,2))"
   ]
  },
  {
   "cell_type": "code",
   "execution_count": 115,
   "metadata": {},
   "outputs": [
    {
     "data": {
      "text/plain": [
       "140"
      ]
     },
     "execution_count": 115,
     "metadata": {},
     "output_type": "execute_result"
    }
   ],
   "source": [
    "len(X)"
   ]
  },
  {
   "cell_type": "code",
   "execution_count": 116,
   "metadata": {},
   "outputs": [],
   "source": [
    "for i in range(len(X)):\n",
    "    X[i]=i,i"
   ]
  },
  {
   "cell_type": "code",
   "execution_count": 167,
   "metadata": {},
   "outputs": [],
   "source": [
    "d=np.array([[0],[0]])"
   ]
  },
  {
   "cell_type": "code",
   "execution_count": 168,
   "metadata": {},
   "outputs": [
    {
     "data": {
      "text/plain": [
       "array([[0],\n",
       "       [0]])"
      ]
     },
     "execution_count": 168,
     "metadata": {},
     "output_type": "execute_result"
    }
   ],
   "source": [
    "d"
   ]
  },
  {
   "cell_type": "code",
   "execution_count": 166,
   "metadata": {},
   "outputs": [
    {
     "data": {
      "text/plain": [
       "array([0., 0.])"
      ]
     },
     "execution_count": 166,
     "metadata": {},
     "output_type": "execute_result"
    }
   ],
   "source": [
    "X[0]"
   ]
  },
  {
   "cell_type": "code",
   "execution_count": 119,
   "metadata": {},
   "outputs": [],
   "source": [
    "from sklearn.preprocessing import PolynomialFeatures"
   ]
  },
  {
   "cell_type": "code",
   "execution_count": 154,
   "metadata": {},
   "outputs": [],
   "source": [
    "a=np.stack((vector[0][:-10],vector[1][:-10]),axis=1)"
   ]
  },
  {
   "cell_type": "code",
   "execution_count": 174,
   "metadata": {},
   "outputs": [
    {
     "data": {
      "text/plain": [
       "dict_keys(['explained_variance', 'r2', 'max_error', 'neg_median_absolute_error', 'neg_mean_absolute_error', 'neg_mean_squared_error', 'neg_mean_squared_log_error', 'neg_root_mean_squared_error', 'neg_mean_poisson_deviance', 'neg_mean_gamma_deviance', 'accuracy', 'roc_auc', 'roc_auc_ovr', 'roc_auc_ovo', 'roc_auc_ovr_weighted', 'roc_auc_ovo_weighted', 'balanced_accuracy', 'average_precision', 'neg_log_loss', 'neg_brier_score', 'adjusted_rand_score', 'homogeneity_score', 'completeness_score', 'v_measure_score', 'mutual_info_score', 'adjusted_mutual_info_score', 'normalized_mutual_info_score', 'fowlkes_mallows_score', 'precision', 'precision_macro', 'precision_micro', 'precision_samples', 'precision_weighted', 'recall', 'recall_macro', 'recall_micro', 'recall_samples', 'recall_weighted', 'f1', 'f1_macro', 'f1_micro', 'f1_samples', 'f1_weighted', 'jaccard', 'jaccard_macro', 'jaccard_micro', 'jaccard_samples', 'jaccard_weighted'])"
      ]
     },
     "execution_count": 174,
     "metadata": {},
     "output_type": "execute_result"
    }
   ],
   "source": [
    "import sklearn\n",
    "sklearn.metrics.SCORERS.keys()"
   ]
  },
  {
   "cell_type": "code",
   "execution_count": 132,
   "metadata": {},
   "outputs": [
    {
     "data": {
      "text/plain": [
       "(array([ 390.39558237,  493.05717818,  603.5655627 ,  718.02711721,\n",
       "         819.0132656 ,  886.11776768,  909.32840746,  890.11573212,\n",
       "         831.18671837,  739.08664514,  631.96645714,  536.95160631,\n",
       "         477.33766131,  458.67760095,  470.57686355,  498.92278027,\n",
       "         531.72151038,  561.49016757,  584.01022343,  597.74838601,\n",
       "         604.23303546,  606.80216809,  609.43277127,  611.12100227,\n",
       "         610.8162858 ,  609.76262348,  605.88726815,  597.63504064,\n",
       "         585.02599488,  568.26208295,  552.06558632,  539.92430288,\n",
       "         532.08989665,  529.99802287,  533.56420018,  541.42309703,\n",
       "         551.31402022,  561.42531469,  569.5603106 ,  573.61387765,\n",
       "         571.70575243,  562.98576321,  549.55314079,  535.68656878,\n",
       "         522.44846278,  510.30700215,  498.76595857,  488.20566483,\n",
       "         479.08772404,  469.02951081,  455.800415  ,  440.58775227,\n",
       "         425.46932333,  412.22348777,  401.81411809,  393.87608936,\n",
       "         387.95762008,  384.54639128,  383.99977046,  386.13430177,\n",
       "         392.36083114,  403.35260593,  419.5123467 ,  441.35516982,\n",
       "         466.58700659,  494.14194924,  524.52637553,  556.626579  ,\n",
       "         589.08274899,  623.06764541,  660.0277369 ,  699.42308934,\n",
       "         736.83405661,  767.95447158,  791.40677416,  810.99288367,\n",
       "         830.4328708 ,  855.56233424,  896.14537361,  936.91758783,\n",
       "         970.59998484, 1000.9553076 , 1034.55334148, 1073.27181166,\n",
       "        1110.82432707, 1138.63618632, 1170.50577843, 1210.46492144,\n",
       "        1251.84268284, 1286.42265029, 1312.06179791, 1330.95214502,\n",
       "        1343.47597717, 1347.81737085, 1344.34699471, 1340.01054607,\n",
       "        1340.02401544, 1344.76775697, 1347.68211917, 1342.84581651,\n",
       "        1331.37435577, 1319.10693572, 1313.40162016, 1316.42845216,\n",
       "        1322.57183111, 1326.03441334, 1319.04690286, 1301.08189437,\n",
       "        1278.48823324, 1251.24701999, 1217.98248849, 1179.42895823,\n",
       "        1141.59379432, 1116.20839444, 1107.60530211, 1107.8596249 ,\n",
       "        1112.00132149, 1118.82243358, 1126.04549868, 1127.31799427,\n",
       "        1118.32559216, 1098.57537767, 1070.60127095, 1037.63516547,\n",
       "        1001.59967524,  967.47668714,  942.78304853,  929.28023626,\n",
       "         925.16621883,  927.61354138,  934.37729424,  944.77395808,\n",
       "         959.97433257,  980.02541929, 1004.23057742, 1031.88147116,\n",
       "        1063.71053611, 1099.25358557, 1136.24193887, 1166.57255084,\n",
       "        1187.15709834, 1197.07231244, 1193.94683447, 1173.65673151,\n",
       "        1136.03098211, 1087.50843015, 1042.43584168, 1007.16504585,\n",
       "         981.01809739,  959.45175652]),\n",
       " array([24.92223605, 27.18141074, 29.50177126, 31.78540241, 33.75257996,\n",
       "        35.1157049 , 36.21595386, 37.0167537 , 37.20628724, 36.8561578 ,\n",
       "        36.59014804, 37.13869914, 39.02318959, 41.78360054, 43.85679673,\n",
       "        44.81126824, 45.02005217, 44.87808919, 44.61310605, 44.23835391,\n",
       "        43.60400163, 43.2623235 , 43.31236129, 43.40663028, 43.1422499 ,\n",
       "        42.36564643, 41.07233868, 39.61763914, 38.8782023 , 39.01693079,\n",
       "        39.65558794, 40.45460446, 41.16974568, 41.72508037, 42.45273168,\n",
       "        43.48421468, 44.8577633 , 46.20618822, 46.35770634, 44.79072273,\n",
       "        41.97349806, 38.94104125, 36.13264399, 33.41522905, 31.14339349,\n",
       "        30.51297234, 31.73497996, 33.58663644, 34.64846081, 34.51005473,\n",
       "        33.55863474, 32.16375204, 30.26272908, 27.78947398, 25.30004793,\n",
       "        23.59495387, 22.98395663, 23.37226243, 24.23322751, 24.72445671,\n",
       "        24.56266297, 23.87419169, 22.85737702, 21.95118936, 21.32129071,\n",
       "        20.7365678 , 20.23314774, 19.8726172 , 19.66766045, 19.31729914,\n",
       "        18.53051505, 17.42168174, 16.50285352, 16.19383297, 16.43086653,\n",
       "        16.74241121, 16.66082229, 16.24468629, 15.8034805 , 15.41095426,\n",
       "        15.27262289, 15.4813543 , 16.02920418, 16.91240462, 17.93765681,\n",
       "        18.77579095, 19.21935397, 18.96067627, 17.63803536, 15.6152122 ,\n",
       "        13.89990401, 13.10193536, 13.28809669, 14.54384993, 16.54050186,\n",
       "        18.76540019, 20.82529262, 22.33721491, 23.19548347, 23.45168563,\n",
       "        23.03500215, 22.66787305, 23.19705493, 24.50680598, 26.09627941,\n",
       "        27.54377219, 28.90666426, 30.05614957, 30.53091132, 30.1590693 ,\n",
       "        29.11188563, 27.33660694, 25.46820914, 23.74895734, 22.22000637,\n",
       "        20.96548747, 20.1393146 , 19.73673952, 19.63243851, 19.84362889,\n",
       "        20.47149881, 21.46061226, 22.43582245, 23.26434594, 23.94321829,\n",
       "        24.34646519, 24.25948177, 23.65011293, 22.67761645, 21.67713941,\n",
       "        20.76684901, 20.10500265, 20.08509479, 20.53017418, 21.05074985,\n",
       "        21.47370033, 21.78459683, 21.94746936, 21.77413468, 21.18416199,\n",
       "        20.60123078, 20.01244814, 19.50481166, 19.28684092, 19.35042539,\n",
       "        19.58522796, 19.97360139, 20.50142322, 21.34980165, 22.27837883]))"
      ]
     },
     "execution_count": 132,
     "metadata": {},
     "output_type": "execute_result"
    }
   ],
   "source": [
    "vector"
   ]
  },
  {
   "cell_type": "code",
   "execution_count": 153,
   "metadata": {},
   "outputs": [
    {
     "data": {
      "text/plain": [
       "150"
      ]
     },
     "execution_count": 153,
     "metadata": {},
     "output_type": "execute_result"
    }
   ],
   "source": [
    "len(a)"
   ]
  },
  {
   "cell_type": "code",
   "execution_count": 149,
   "metadata": {},
   "outputs": [
    {
     "data": {
      "text/plain": [
       "2"
      ]
     },
     "execution_count": 149,
     "metadata": {},
     "output_type": "execute_result"
    }
   ],
   "source": [
    "predict= [[141], [141]]\n",
    "np.array(predict).ndim"
   ]
  },
  {
   "cell_type": "code",
   "execution_count": 151,
   "metadata": {},
   "outputs": [],
   "source": [
    "from sklearn import linear_model"
   ]
  },
  {
   "cell_type": "code",
   "execution_count": 161,
   "metadata": {},
   "outputs": [],
   "source": [
    "vector = redf['confirmed_7dav_incidence_num_smooth2'].values[:-10],redf['deaths_7dav_incidence_num_smooth2'].values[:-10]"
   ]
  },
  {
   "cell_type": "code",
   "execution_count": 162,
   "metadata": {},
   "outputs": [
    {
     "data": {
      "text/plain": [
       "(array([ 390.39558237,  493.05717818,  603.5655627 ,  718.02711721,\n",
       "         819.0132656 ,  886.11776768,  909.32840746,  890.11573212,\n",
       "         831.18671837,  739.08664514,  631.96645714,  536.95160631,\n",
       "         477.33766131,  458.67760095,  470.57686355,  498.92278027,\n",
       "         531.72151038,  561.49016757,  584.01022343,  597.74838601,\n",
       "         604.23303546,  606.80216809,  609.43277127,  611.12100227,\n",
       "         610.8162858 ,  609.76262348,  605.88726815,  597.63504064,\n",
       "         585.02599488,  568.26208295,  552.06558632,  539.92430288,\n",
       "         532.08989665,  529.99802287,  533.56420018,  541.42309703,\n",
       "         551.31402022,  561.42531469,  569.5603106 ,  573.61387765,\n",
       "         571.70575243,  562.98576321,  549.55314079,  535.68656878,\n",
       "         522.44846278,  510.30700215,  498.76595857,  488.20566483,\n",
       "         479.08772404,  469.02951081,  455.800415  ,  440.58775227,\n",
       "         425.46932333,  412.22348777,  401.81411809,  393.87608936,\n",
       "         387.95762008,  384.54639128,  383.99977046,  386.13430177,\n",
       "         392.36083114,  403.35260593,  419.5123467 ,  441.35516982,\n",
       "         466.58700659,  494.14194924,  524.52637553,  556.626579  ,\n",
       "         589.08274899,  623.06764541,  660.0277369 ,  699.42308934,\n",
       "         736.83405661,  767.95447158,  791.40677416,  810.99288367,\n",
       "         830.4328708 ,  855.56233424,  896.14537361,  936.91758783,\n",
       "         970.59998484, 1000.9553076 , 1034.55334148, 1073.27181166,\n",
       "        1110.82432707, 1138.63618632, 1170.50577843, 1210.46492144,\n",
       "        1251.84268284, 1286.42265029, 1312.06179791, 1330.95214502,\n",
       "        1343.47597717, 1347.81737085, 1344.34699471, 1340.01054607,\n",
       "        1340.02401544, 1344.76775697, 1347.68211917, 1342.84581651,\n",
       "        1331.37435577, 1319.10693572, 1313.40162016, 1316.42845216,\n",
       "        1322.57183111, 1326.03441334, 1319.04690286, 1301.08189437,\n",
       "        1278.48823324, 1251.24701999, 1217.98248849, 1179.42895823,\n",
       "        1141.59379432, 1116.20839444, 1107.60530211, 1107.8596249 ,\n",
       "        1112.00132149, 1118.82243358, 1126.04549868, 1127.31799427,\n",
       "        1118.32559216, 1098.57537767, 1070.60127095, 1037.63516547,\n",
       "        1001.59967524,  967.47668714,  942.78304853,  929.28023626,\n",
       "         925.16621883,  927.61354138,  934.37729424,  944.77395808,\n",
       "         959.97433257,  980.02541929, 1004.23057742, 1031.88147116,\n",
       "        1063.71053611, 1099.25358557, 1136.24193887, 1166.57255084]),\n",
       " array([24.92223605, 27.18141074, 29.50177126, 31.78540241, 33.75257996,\n",
       "        35.1157049 , 36.21595386, 37.0167537 , 37.20628724, 36.8561578 ,\n",
       "        36.59014804, 37.13869914, 39.02318959, 41.78360054, 43.85679673,\n",
       "        44.81126824, 45.02005217, 44.87808919, 44.61310605, 44.23835391,\n",
       "        43.60400163, 43.2623235 , 43.31236129, 43.40663028, 43.1422499 ,\n",
       "        42.36564643, 41.07233868, 39.61763914, 38.8782023 , 39.01693079,\n",
       "        39.65558794, 40.45460446, 41.16974568, 41.72508037, 42.45273168,\n",
       "        43.48421468, 44.8577633 , 46.20618822, 46.35770634, 44.79072273,\n",
       "        41.97349806, 38.94104125, 36.13264399, 33.41522905, 31.14339349,\n",
       "        30.51297234, 31.73497996, 33.58663644, 34.64846081, 34.51005473,\n",
       "        33.55863474, 32.16375204, 30.26272908, 27.78947398, 25.30004793,\n",
       "        23.59495387, 22.98395663, 23.37226243, 24.23322751, 24.72445671,\n",
       "        24.56266297, 23.87419169, 22.85737702, 21.95118936, 21.32129071,\n",
       "        20.7365678 , 20.23314774, 19.8726172 , 19.66766045, 19.31729914,\n",
       "        18.53051505, 17.42168174, 16.50285352, 16.19383297, 16.43086653,\n",
       "        16.74241121, 16.66082229, 16.24468629, 15.8034805 , 15.41095426,\n",
       "        15.27262289, 15.4813543 , 16.02920418, 16.91240462, 17.93765681,\n",
       "        18.77579095, 19.21935397, 18.96067627, 17.63803536, 15.6152122 ,\n",
       "        13.89990401, 13.10193536, 13.28809669, 14.54384993, 16.54050186,\n",
       "        18.76540019, 20.82529262, 22.33721491, 23.19548347, 23.45168563,\n",
       "        23.03500215, 22.66787305, 23.19705493, 24.50680598, 26.09627941,\n",
       "        27.54377219, 28.90666426, 30.05614957, 30.53091132, 30.1590693 ,\n",
       "        29.11188563, 27.33660694, 25.46820914, 23.74895734, 22.22000637,\n",
       "        20.96548747, 20.1393146 , 19.73673952, 19.63243851, 19.84362889,\n",
       "        20.47149881, 21.46061226, 22.43582245, 23.26434594, 23.94321829,\n",
       "        24.34646519, 24.25948177, 23.65011293, 22.67761645, 21.67713941,\n",
       "        20.76684901, 20.10500265, 20.08509479, 20.53017418, 21.05074985,\n",
       "        21.47370033, 21.78459683, 21.94746936, 21.77413468, 21.18416199]))"
      ]
     },
     "execution_count": 162,
     "metadata": {},
     "output_type": "execute_result"
    }
   ],
   "source": [
    "vector"
   ]
  },
  {
   "cell_type": "code",
   "execution_count": 163,
   "metadata": {},
   "outputs": [],
   "source": [
    "a=np.stack((vector[0],vector[1]),axis=1)"
   ]
  },
  {
   "cell_type": "code",
   "execution_count": 164,
   "metadata": {},
   "outputs": [
    {
     "data": {
      "text/plain": [
       "array([[ 390.39558237,   24.92223605],\n",
       "       [ 493.05717818,   27.18141074],\n",
       "       [ 603.5655627 ,   29.50177126],\n",
       "       [ 718.02711721,   31.78540241],\n",
       "       [ 819.0132656 ,   33.75257996],\n",
       "       [ 886.11776768,   35.1157049 ],\n",
       "       [ 909.32840746,   36.21595386],\n",
       "       [ 890.11573212,   37.0167537 ],\n",
       "       [ 831.18671837,   37.20628724],\n",
       "       [ 739.08664514,   36.8561578 ],\n",
       "       [ 631.96645714,   36.59014804],\n",
       "       [ 536.95160631,   37.13869914],\n",
       "       [ 477.33766131,   39.02318959],\n",
       "       [ 458.67760095,   41.78360054],\n",
       "       [ 470.57686355,   43.85679673],\n",
       "       [ 498.92278027,   44.81126824],\n",
       "       [ 531.72151038,   45.02005217],\n",
       "       [ 561.49016757,   44.87808919],\n",
       "       [ 584.01022343,   44.61310605],\n",
       "       [ 597.74838601,   44.23835391],\n",
       "       [ 604.23303546,   43.60400163],\n",
       "       [ 606.80216809,   43.2623235 ],\n",
       "       [ 609.43277127,   43.31236129],\n",
       "       [ 611.12100227,   43.40663028],\n",
       "       [ 610.8162858 ,   43.1422499 ],\n",
       "       [ 609.76262348,   42.36564643],\n",
       "       [ 605.88726815,   41.07233868],\n",
       "       [ 597.63504064,   39.61763914],\n",
       "       [ 585.02599488,   38.8782023 ],\n",
       "       [ 568.26208295,   39.01693079],\n",
       "       [ 552.06558632,   39.65558794],\n",
       "       [ 539.92430288,   40.45460446],\n",
       "       [ 532.08989665,   41.16974568],\n",
       "       [ 529.99802287,   41.72508037],\n",
       "       [ 533.56420018,   42.45273168],\n",
       "       [ 541.42309703,   43.48421468],\n",
       "       [ 551.31402022,   44.8577633 ],\n",
       "       [ 561.42531469,   46.20618822],\n",
       "       [ 569.5603106 ,   46.35770634],\n",
       "       [ 573.61387765,   44.79072273],\n",
       "       [ 571.70575243,   41.97349806],\n",
       "       [ 562.98576321,   38.94104125],\n",
       "       [ 549.55314079,   36.13264399],\n",
       "       [ 535.68656878,   33.41522905],\n",
       "       [ 522.44846278,   31.14339349],\n",
       "       [ 510.30700215,   30.51297234],\n",
       "       [ 498.76595857,   31.73497996],\n",
       "       [ 488.20566483,   33.58663644],\n",
       "       [ 479.08772404,   34.64846081],\n",
       "       [ 469.02951081,   34.51005473],\n",
       "       [ 455.800415  ,   33.55863474],\n",
       "       [ 440.58775227,   32.16375204],\n",
       "       [ 425.46932333,   30.26272908],\n",
       "       [ 412.22348777,   27.78947398],\n",
       "       [ 401.81411809,   25.30004793],\n",
       "       [ 393.87608936,   23.59495387],\n",
       "       [ 387.95762008,   22.98395663],\n",
       "       [ 384.54639128,   23.37226243],\n",
       "       [ 383.99977046,   24.23322751],\n",
       "       [ 386.13430177,   24.72445671],\n",
       "       [ 392.36083114,   24.56266297],\n",
       "       [ 403.35260593,   23.87419169],\n",
       "       [ 419.5123467 ,   22.85737702],\n",
       "       [ 441.35516982,   21.95118936],\n",
       "       [ 466.58700659,   21.32129071],\n",
       "       [ 494.14194924,   20.7365678 ],\n",
       "       [ 524.52637553,   20.23314774],\n",
       "       [ 556.626579  ,   19.8726172 ],\n",
       "       [ 589.08274899,   19.66766045],\n",
       "       [ 623.06764541,   19.31729914],\n",
       "       [ 660.0277369 ,   18.53051505],\n",
       "       [ 699.42308934,   17.42168174],\n",
       "       [ 736.83405661,   16.50285352],\n",
       "       [ 767.95447158,   16.19383297],\n",
       "       [ 791.40677416,   16.43086653],\n",
       "       [ 810.99288367,   16.74241121],\n",
       "       [ 830.4328708 ,   16.66082229],\n",
       "       [ 855.56233424,   16.24468629],\n",
       "       [ 896.14537361,   15.8034805 ],\n",
       "       [ 936.91758783,   15.41095426],\n",
       "       [ 970.59998484,   15.27262289],\n",
       "       [1000.9553076 ,   15.4813543 ],\n",
       "       [1034.55334148,   16.02920418],\n",
       "       [1073.27181166,   16.91240462],\n",
       "       [1110.82432707,   17.93765681],\n",
       "       [1138.63618632,   18.77579095],\n",
       "       [1170.50577843,   19.21935397],\n",
       "       [1210.46492144,   18.96067627],\n",
       "       [1251.84268284,   17.63803536],\n",
       "       [1286.42265029,   15.6152122 ],\n",
       "       [1312.06179791,   13.89990401],\n",
       "       [1330.95214502,   13.10193536],\n",
       "       [1343.47597717,   13.28809669],\n",
       "       [1347.81737085,   14.54384993],\n",
       "       [1344.34699471,   16.54050186],\n",
       "       [1340.01054607,   18.76540019],\n",
       "       [1340.02401544,   20.82529262],\n",
       "       [1344.76775697,   22.33721491],\n",
       "       [1347.68211917,   23.19548347],\n",
       "       [1342.84581651,   23.45168563],\n",
       "       [1331.37435577,   23.03500215],\n",
       "       [1319.10693572,   22.66787305],\n",
       "       [1313.40162016,   23.19705493],\n",
       "       [1316.42845216,   24.50680598],\n",
       "       [1322.57183111,   26.09627941],\n",
       "       [1326.03441334,   27.54377219],\n",
       "       [1319.04690286,   28.90666426],\n",
       "       [1301.08189437,   30.05614957],\n",
       "       [1278.48823324,   30.53091132],\n",
       "       [1251.24701999,   30.1590693 ],\n",
       "       [1217.98248849,   29.11188563],\n",
       "       [1179.42895823,   27.33660694],\n",
       "       [1141.59379432,   25.46820914],\n",
       "       [1116.20839444,   23.74895734],\n",
       "       [1107.60530211,   22.22000637],\n",
       "       [1107.8596249 ,   20.96548747],\n",
       "       [1112.00132149,   20.1393146 ],\n",
       "       [1118.82243358,   19.73673952],\n",
       "       [1126.04549868,   19.63243851],\n",
       "       [1127.31799427,   19.84362889],\n",
       "       [1118.32559216,   20.47149881],\n",
       "       [1098.57537767,   21.46061226],\n",
       "       [1070.60127095,   22.43582245],\n",
       "       [1037.63516547,   23.26434594],\n",
       "       [1001.59967524,   23.94321829],\n",
       "       [ 967.47668714,   24.34646519],\n",
       "       [ 942.78304853,   24.25948177],\n",
       "       [ 929.28023626,   23.65011293],\n",
       "       [ 925.16621883,   22.67761645],\n",
       "       [ 927.61354138,   21.67713941],\n",
       "       [ 934.37729424,   20.76684901],\n",
       "       [ 944.77395808,   20.10500265],\n",
       "       [ 959.97433257,   20.08509479],\n",
       "       [ 980.02541929,   20.53017418],\n",
       "       [1004.23057742,   21.05074985],\n",
       "       [1031.88147116,   21.47370033],\n",
       "       [1063.71053611,   21.78459683],\n",
       "       [1099.25358557,   21.94746936],\n",
       "       [1136.24193887,   21.77413468],\n",
       "       [1166.57255084,   21.18416199]])"
      ]
     },
     "execution_count": 164,
     "metadata": {},
     "output_type": "execute_result"
    }
   ],
   "source": [
    "a"
   ]
  },
  {
   "cell_type": "code",
   "execution_count": 165,
   "metadata": {},
   "outputs": [
    {
     "name": "stdout",
     "output_type": "stream",
     "text": [
      "X_ =  [[1.0000e+00 0.0000e+00 0.0000e+00 0.0000e+00 0.0000e+00 0.0000e+00]\n",
      " [1.0000e+00 1.0000e+00 1.0000e+00 1.0000e+00 1.0000e+00 1.0000e+00]\n",
      " [1.0000e+00 2.0000e+00 2.0000e+00 4.0000e+00 4.0000e+00 4.0000e+00]\n",
      " [1.0000e+00 3.0000e+00 3.0000e+00 9.0000e+00 9.0000e+00 9.0000e+00]\n",
      " [1.0000e+00 4.0000e+00 4.0000e+00 1.6000e+01 1.6000e+01 1.6000e+01]\n",
      " [1.0000e+00 5.0000e+00 5.0000e+00 2.5000e+01 2.5000e+01 2.5000e+01]\n",
      " [1.0000e+00 6.0000e+00 6.0000e+00 3.6000e+01 3.6000e+01 3.6000e+01]\n",
      " [1.0000e+00 7.0000e+00 7.0000e+00 4.9000e+01 4.9000e+01 4.9000e+01]\n",
      " [1.0000e+00 8.0000e+00 8.0000e+00 6.4000e+01 6.4000e+01 6.4000e+01]\n",
      " [1.0000e+00 9.0000e+00 9.0000e+00 8.1000e+01 8.1000e+01 8.1000e+01]\n",
      " [1.0000e+00 1.0000e+01 1.0000e+01 1.0000e+02 1.0000e+02 1.0000e+02]\n",
      " [1.0000e+00 1.1000e+01 1.1000e+01 1.2100e+02 1.2100e+02 1.2100e+02]\n",
      " [1.0000e+00 1.2000e+01 1.2000e+01 1.4400e+02 1.4400e+02 1.4400e+02]\n",
      " [1.0000e+00 1.3000e+01 1.3000e+01 1.6900e+02 1.6900e+02 1.6900e+02]\n",
      " [1.0000e+00 1.4000e+01 1.4000e+01 1.9600e+02 1.9600e+02 1.9600e+02]\n",
      " [1.0000e+00 1.5000e+01 1.5000e+01 2.2500e+02 2.2500e+02 2.2500e+02]\n",
      " [1.0000e+00 1.6000e+01 1.6000e+01 2.5600e+02 2.5600e+02 2.5600e+02]\n",
      " [1.0000e+00 1.7000e+01 1.7000e+01 2.8900e+02 2.8900e+02 2.8900e+02]\n",
      " [1.0000e+00 1.8000e+01 1.8000e+01 3.2400e+02 3.2400e+02 3.2400e+02]\n",
      " [1.0000e+00 1.9000e+01 1.9000e+01 3.6100e+02 3.6100e+02 3.6100e+02]\n",
      " [1.0000e+00 2.0000e+01 2.0000e+01 4.0000e+02 4.0000e+02 4.0000e+02]\n",
      " [1.0000e+00 2.1000e+01 2.1000e+01 4.4100e+02 4.4100e+02 4.4100e+02]\n",
      " [1.0000e+00 2.2000e+01 2.2000e+01 4.8400e+02 4.8400e+02 4.8400e+02]\n",
      " [1.0000e+00 2.3000e+01 2.3000e+01 5.2900e+02 5.2900e+02 5.2900e+02]\n",
      " [1.0000e+00 2.4000e+01 2.4000e+01 5.7600e+02 5.7600e+02 5.7600e+02]\n",
      " [1.0000e+00 2.5000e+01 2.5000e+01 6.2500e+02 6.2500e+02 6.2500e+02]\n",
      " [1.0000e+00 2.6000e+01 2.6000e+01 6.7600e+02 6.7600e+02 6.7600e+02]\n",
      " [1.0000e+00 2.7000e+01 2.7000e+01 7.2900e+02 7.2900e+02 7.2900e+02]\n",
      " [1.0000e+00 2.8000e+01 2.8000e+01 7.8400e+02 7.8400e+02 7.8400e+02]\n",
      " [1.0000e+00 2.9000e+01 2.9000e+01 8.4100e+02 8.4100e+02 8.4100e+02]\n",
      " [1.0000e+00 3.0000e+01 3.0000e+01 9.0000e+02 9.0000e+02 9.0000e+02]\n",
      " [1.0000e+00 3.1000e+01 3.1000e+01 9.6100e+02 9.6100e+02 9.6100e+02]\n",
      " [1.0000e+00 3.2000e+01 3.2000e+01 1.0240e+03 1.0240e+03 1.0240e+03]\n",
      " [1.0000e+00 3.3000e+01 3.3000e+01 1.0890e+03 1.0890e+03 1.0890e+03]\n",
      " [1.0000e+00 3.4000e+01 3.4000e+01 1.1560e+03 1.1560e+03 1.1560e+03]\n",
      " [1.0000e+00 3.5000e+01 3.5000e+01 1.2250e+03 1.2250e+03 1.2250e+03]\n",
      " [1.0000e+00 3.6000e+01 3.6000e+01 1.2960e+03 1.2960e+03 1.2960e+03]\n",
      " [1.0000e+00 3.7000e+01 3.7000e+01 1.3690e+03 1.3690e+03 1.3690e+03]\n",
      " [1.0000e+00 3.8000e+01 3.8000e+01 1.4440e+03 1.4440e+03 1.4440e+03]\n",
      " [1.0000e+00 3.9000e+01 3.9000e+01 1.5210e+03 1.5210e+03 1.5210e+03]\n",
      " [1.0000e+00 4.0000e+01 4.0000e+01 1.6000e+03 1.6000e+03 1.6000e+03]\n",
      " [1.0000e+00 4.1000e+01 4.1000e+01 1.6810e+03 1.6810e+03 1.6810e+03]\n",
      " [1.0000e+00 4.2000e+01 4.2000e+01 1.7640e+03 1.7640e+03 1.7640e+03]\n",
      " [1.0000e+00 4.3000e+01 4.3000e+01 1.8490e+03 1.8490e+03 1.8490e+03]\n",
      " [1.0000e+00 4.4000e+01 4.4000e+01 1.9360e+03 1.9360e+03 1.9360e+03]\n",
      " [1.0000e+00 4.5000e+01 4.5000e+01 2.0250e+03 2.0250e+03 2.0250e+03]\n",
      " [1.0000e+00 4.6000e+01 4.6000e+01 2.1160e+03 2.1160e+03 2.1160e+03]\n",
      " [1.0000e+00 4.7000e+01 4.7000e+01 2.2090e+03 2.2090e+03 2.2090e+03]\n",
      " [1.0000e+00 4.8000e+01 4.8000e+01 2.3040e+03 2.3040e+03 2.3040e+03]\n",
      " [1.0000e+00 4.9000e+01 4.9000e+01 2.4010e+03 2.4010e+03 2.4010e+03]\n",
      " [1.0000e+00 5.0000e+01 5.0000e+01 2.5000e+03 2.5000e+03 2.5000e+03]\n",
      " [1.0000e+00 5.1000e+01 5.1000e+01 2.6010e+03 2.6010e+03 2.6010e+03]\n",
      " [1.0000e+00 5.2000e+01 5.2000e+01 2.7040e+03 2.7040e+03 2.7040e+03]\n",
      " [1.0000e+00 5.3000e+01 5.3000e+01 2.8090e+03 2.8090e+03 2.8090e+03]\n",
      " [1.0000e+00 5.4000e+01 5.4000e+01 2.9160e+03 2.9160e+03 2.9160e+03]\n",
      " [1.0000e+00 5.5000e+01 5.5000e+01 3.0250e+03 3.0250e+03 3.0250e+03]\n",
      " [1.0000e+00 5.6000e+01 5.6000e+01 3.1360e+03 3.1360e+03 3.1360e+03]\n",
      " [1.0000e+00 5.7000e+01 5.7000e+01 3.2490e+03 3.2490e+03 3.2490e+03]\n",
      " [1.0000e+00 5.8000e+01 5.8000e+01 3.3640e+03 3.3640e+03 3.3640e+03]\n",
      " [1.0000e+00 5.9000e+01 5.9000e+01 3.4810e+03 3.4810e+03 3.4810e+03]\n",
      " [1.0000e+00 6.0000e+01 6.0000e+01 3.6000e+03 3.6000e+03 3.6000e+03]\n",
      " [1.0000e+00 6.1000e+01 6.1000e+01 3.7210e+03 3.7210e+03 3.7210e+03]\n",
      " [1.0000e+00 6.2000e+01 6.2000e+01 3.8440e+03 3.8440e+03 3.8440e+03]\n",
      " [1.0000e+00 6.3000e+01 6.3000e+01 3.9690e+03 3.9690e+03 3.9690e+03]\n",
      " [1.0000e+00 6.4000e+01 6.4000e+01 4.0960e+03 4.0960e+03 4.0960e+03]\n",
      " [1.0000e+00 6.5000e+01 6.5000e+01 4.2250e+03 4.2250e+03 4.2250e+03]\n",
      " [1.0000e+00 6.6000e+01 6.6000e+01 4.3560e+03 4.3560e+03 4.3560e+03]\n",
      " [1.0000e+00 6.7000e+01 6.7000e+01 4.4890e+03 4.4890e+03 4.4890e+03]\n",
      " [1.0000e+00 6.8000e+01 6.8000e+01 4.6240e+03 4.6240e+03 4.6240e+03]\n",
      " [1.0000e+00 6.9000e+01 6.9000e+01 4.7610e+03 4.7610e+03 4.7610e+03]\n",
      " [1.0000e+00 7.0000e+01 7.0000e+01 4.9000e+03 4.9000e+03 4.9000e+03]\n",
      " [1.0000e+00 7.1000e+01 7.1000e+01 5.0410e+03 5.0410e+03 5.0410e+03]\n",
      " [1.0000e+00 7.2000e+01 7.2000e+01 5.1840e+03 5.1840e+03 5.1840e+03]\n",
      " [1.0000e+00 7.3000e+01 7.3000e+01 5.3290e+03 5.3290e+03 5.3290e+03]\n",
      " [1.0000e+00 7.4000e+01 7.4000e+01 5.4760e+03 5.4760e+03 5.4760e+03]\n",
      " [1.0000e+00 7.5000e+01 7.5000e+01 5.6250e+03 5.6250e+03 5.6250e+03]\n",
      " [1.0000e+00 7.6000e+01 7.6000e+01 5.7760e+03 5.7760e+03 5.7760e+03]\n",
      " [1.0000e+00 7.7000e+01 7.7000e+01 5.9290e+03 5.9290e+03 5.9290e+03]\n",
      " [1.0000e+00 7.8000e+01 7.8000e+01 6.0840e+03 6.0840e+03 6.0840e+03]\n",
      " [1.0000e+00 7.9000e+01 7.9000e+01 6.2410e+03 6.2410e+03 6.2410e+03]\n",
      " [1.0000e+00 8.0000e+01 8.0000e+01 6.4000e+03 6.4000e+03 6.4000e+03]\n",
      " [1.0000e+00 8.1000e+01 8.1000e+01 6.5610e+03 6.5610e+03 6.5610e+03]\n",
      " [1.0000e+00 8.2000e+01 8.2000e+01 6.7240e+03 6.7240e+03 6.7240e+03]\n",
      " [1.0000e+00 8.3000e+01 8.3000e+01 6.8890e+03 6.8890e+03 6.8890e+03]\n",
      " [1.0000e+00 8.4000e+01 8.4000e+01 7.0560e+03 7.0560e+03 7.0560e+03]\n",
      " [1.0000e+00 8.5000e+01 8.5000e+01 7.2250e+03 7.2250e+03 7.2250e+03]\n",
      " [1.0000e+00 8.6000e+01 8.6000e+01 7.3960e+03 7.3960e+03 7.3960e+03]\n",
      " [1.0000e+00 8.7000e+01 8.7000e+01 7.5690e+03 7.5690e+03 7.5690e+03]\n",
      " [1.0000e+00 8.8000e+01 8.8000e+01 7.7440e+03 7.7440e+03 7.7440e+03]\n",
      " [1.0000e+00 8.9000e+01 8.9000e+01 7.9210e+03 7.9210e+03 7.9210e+03]\n",
      " [1.0000e+00 9.0000e+01 9.0000e+01 8.1000e+03 8.1000e+03 8.1000e+03]\n",
      " [1.0000e+00 9.1000e+01 9.1000e+01 8.2810e+03 8.2810e+03 8.2810e+03]\n",
      " [1.0000e+00 9.2000e+01 9.2000e+01 8.4640e+03 8.4640e+03 8.4640e+03]\n",
      " [1.0000e+00 9.3000e+01 9.3000e+01 8.6490e+03 8.6490e+03 8.6490e+03]\n",
      " [1.0000e+00 9.4000e+01 9.4000e+01 8.8360e+03 8.8360e+03 8.8360e+03]\n",
      " [1.0000e+00 9.5000e+01 9.5000e+01 9.0250e+03 9.0250e+03 9.0250e+03]\n",
      " [1.0000e+00 9.6000e+01 9.6000e+01 9.2160e+03 9.2160e+03 9.2160e+03]\n",
      " [1.0000e+00 9.7000e+01 9.7000e+01 9.4090e+03 9.4090e+03 9.4090e+03]\n",
      " [1.0000e+00 9.8000e+01 9.8000e+01 9.6040e+03 9.6040e+03 9.6040e+03]\n",
      " [1.0000e+00 9.9000e+01 9.9000e+01 9.8010e+03 9.8010e+03 9.8010e+03]\n",
      " [1.0000e+00 1.0000e+02 1.0000e+02 1.0000e+04 1.0000e+04 1.0000e+04]\n",
      " [1.0000e+00 1.0100e+02 1.0100e+02 1.0201e+04 1.0201e+04 1.0201e+04]\n",
      " [1.0000e+00 1.0200e+02 1.0200e+02 1.0404e+04 1.0404e+04 1.0404e+04]\n",
      " [1.0000e+00 1.0300e+02 1.0300e+02 1.0609e+04 1.0609e+04 1.0609e+04]\n",
      " [1.0000e+00 1.0400e+02 1.0400e+02 1.0816e+04 1.0816e+04 1.0816e+04]\n",
      " [1.0000e+00 1.0500e+02 1.0500e+02 1.1025e+04 1.1025e+04 1.1025e+04]\n",
      " [1.0000e+00 1.0600e+02 1.0600e+02 1.1236e+04 1.1236e+04 1.1236e+04]\n",
      " [1.0000e+00 1.0700e+02 1.0700e+02 1.1449e+04 1.1449e+04 1.1449e+04]\n",
      " [1.0000e+00 1.0800e+02 1.0800e+02 1.1664e+04 1.1664e+04 1.1664e+04]\n",
      " [1.0000e+00 1.0900e+02 1.0900e+02 1.1881e+04 1.1881e+04 1.1881e+04]\n",
      " [1.0000e+00 1.1000e+02 1.1000e+02 1.2100e+04 1.2100e+04 1.2100e+04]\n",
      " [1.0000e+00 1.1100e+02 1.1100e+02 1.2321e+04 1.2321e+04 1.2321e+04]\n",
      " [1.0000e+00 1.1200e+02 1.1200e+02 1.2544e+04 1.2544e+04 1.2544e+04]\n",
      " [1.0000e+00 1.1300e+02 1.1300e+02 1.2769e+04 1.2769e+04 1.2769e+04]\n",
      " [1.0000e+00 1.1400e+02 1.1400e+02 1.2996e+04 1.2996e+04 1.2996e+04]\n",
      " [1.0000e+00 1.1500e+02 1.1500e+02 1.3225e+04 1.3225e+04 1.3225e+04]\n",
      " [1.0000e+00 1.1600e+02 1.1600e+02 1.3456e+04 1.3456e+04 1.3456e+04]\n",
      " [1.0000e+00 1.1700e+02 1.1700e+02 1.3689e+04 1.3689e+04 1.3689e+04]\n",
      " [1.0000e+00 1.1800e+02 1.1800e+02 1.3924e+04 1.3924e+04 1.3924e+04]\n",
      " [1.0000e+00 1.1900e+02 1.1900e+02 1.4161e+04 1.4161e+04 1.4161e+04]\n",
      " [1.0000e+00 1.2000e+02 1.2000e+02 1.4400e+04 1.4400e+04 1.4400e+04]\n",
      " [1.0000e+00 1.2100e+02 1.2100e+02 1.4641e+04 1.4641e+04 1.4641e+04]\n",
      " [1.0000e+00 1.2200e+02 1.2200e+02 1.4884e+04 1.4884e+04 1.4884e+04]\n",
      " [1.0000e+00 1.2300e+02 1.2300e+02 1.5129e+04 1.5129e+04 1.5129e+04]\n",
      " [1.0000e+00 1.2400e+02 1.2400e+02 1.5376e+04 1.5376e+04 1.5376e+04]\n",
      " [1.0000e+00 1.2500e+02 1.2500e+02 1.5625e+04 1.5625e+04 1.5625e+04]\n",
      " [1.0000e+00 1.2600e+02 1.2600e+02 1.5876e+04 1.5876e+04 1.5876e+04]\n",
      " [1.0000e+00 1.2700e+02 1.2700e+02 1.6129e+04 1.6129e+04 1.6129e+04]\n",
      " [1.0000e+00 1.2800e+02 1.2800e+02 1.6384e+04 1.6384e+04 1.6384e+04]\n",
      " [1.0000e+00 1.2900e+02 1.2900e+02 1.6641e+04 1.6641e+04 1.6641e+04]\n",
      " [1.0000e+00 1.3000e+02 1.3000e+02 1.6900e+04 1.6900e+04 1.6900e+04]\n",
      " [1.0000e+00 1.3100e+02 1.3100e+02 1.7161e+04 1.7161e+04 1.7161e+04]\n",
      " [1.0000e+00 1.3200e+02 1.3200e+02 1.7424e+04 1.7424e+04 1.7424e+04]\n",
      " [1.0000e+00 1.3300e+02 1.3300e+02 1.7689e+04 1.7689e+04 1.7689e+04]\n",
      " [1.0000e+00 1.3400e+02 1.3400e+02 1.7956e+04 1.7956e+04 1.7956e+04]\n",
      " [1.0000e+00 1.3500e+02 1.3500e+02 1.8225e+04 1.8225e+04 1.8225e+04]\n",
      " [1.0000e+00 1.3600e+02 1.3600e+02 1.8496e+04 1.8496e+04 1.8496e+04]\n",
      " [1.0000e+00 1.3700e+02 1.3700e+02 1.8769e+04 1.8769e+04 1.8769e+04]\n",
      " [1.0000e+00 1.3800e+02 1.3800e+02 1.9044e+04 1.9044e+04 1.9044e+04]\n",
      " [1.0000e+00 1.3900e+02 1.3900e+02 1.9321e+04 1.9321e+04 1.9321e+04]]\n",
      "predict_ =  [[1.0000e+00 1.4100e+02 1.9881e+04]\n",
      " [1.0000e+00 1.4100e+02 1.9881e+04]]\n"
     ]
    },
    {
     "ename": "ValueError",
     "evalue": "matmul: Input operand 1 has a mismatch in its core dimension 0, with gufunc signature (n?,k),(k,m?)->(n?,m?) (size 6 is different from 3)",
     "output_type": "error",
     "traceback": [
      "\u001b[0;31m---------------------------------------------------------------------------\u001b[0m",
      "\u001b[0;31mValueError\u001b[0m                                Traceback (most recent call last)",
      "\u001b[0;32m<ipython-input-165-059e9a0ee9fc>\u001b[0m in \u001b[0;36m<module>\u001b[0;34m\u001b[0m\n\u001b[1;32m     28\u001b[0m \u001b[0mprint\u001b[0m\u001b[0;34m(\u001b[0m\u001b[0;34m\"X_ = \"\u001b[0m\u001b[0;34m,\u001b[0m\u001b[0mX_\u001b[0m\u001b[0;34m)\u001b[0m\u001b[0;34m\u001b[0m\u001b[0;34m\u001b[0m\u001b[0m\n\u001b[1;32m     29\u001b[0m \u001b[0mprint\u001b[0m\u001b[0;34m(\u001b[0m\u001b[0;34m\"predict_ = \"\u001b[0m\u001b[0;34m,\u001b[0m\u001b[0mpredict_\u001b[0m\u001b[0;34m)\u001b[0m\u001b[0;34m\u001b[0m\u001b[0;34m\u001b[0m\u001b[0m\n\u001b[0;32m---> 30\u001b[0;31m \u001b[0mprint\u001b[0m\u001b[0;34m(\u001b[0m\u001b[0;34m\"Prediction = \"\u001b[0m\u001b[0;34m,\u001b[0m\u001b[0mclf\u001b[0m\u001b[0;34m.\u001b[0m\u001b[0mpredict\u001b[0m\u001b[0;34m(\u001b[0m\u001b[0mpredict_\u001b[0m\u001b[0;34m)\u001b[0m\u001b[0;34m)\u001b[0m\u001b[0;34m\u001b[0m\u001b[0;34m\u001b[0m\u001b[0m\n\u001b[0m",
      "\u001b[0;32m~/anaconda3/lib/python3.8/site-packages/sklearn/linear_model/_base.py\u001b[0m in \u001b[0;36mpredict\u001b[0;34m(self, X)\u001b[0m\n\u001b[1;32m    234\u001b[0m             \u001b[0mReturns\u001b[0m \u001b[0mpredicted\u001b[0m \u001b[0mvalues\u001b[0m\u001b[0;34m.\u001b[0m\u001b[0;34m\u001b[0m\u001b[0;34m\u001b[0m\u001b[0m\n\u001b[1;32m    235\u001b[0m         \"\"\"\n\u001b[0;32m--> 236\u001b[0;31m         \u001b[0;32mreturn\u001b[0m \u001b[0mself\u001b[0m\u001b[0;34m.\u001b[0m\u001b[0m_decision_function\u001b[0m\u001b[0;34m(\u001b[0m\u001b[0mX\u001b[0m\u001b[0;34m)\u001b[0m\u001b[0;34m\u001b[0m\u001b[0;34m\u001b[0m\u001b[0m\n\u001b[0m\u001b[1;32m    237\u001b[0m \u001b[0;34m\u001b[0m\u001b[0m\n\u001b[1;32m    238\u001b[0m     \u001b[0m_preprocess_data\u001b[0m \u001b[0;34m=\u001b[0m \u001b[0mstaticmethod\u001b[0m\u001b[0;34m(\u001b[0m\u001b[0m_preprocess_data\u001b[0m\u001b[0;34m)\u001b[0m\u001b[0;34m\u001b[0m\u001b[0;34m\u001b[0m\u001b[0m\n",
      "\u001b[0;32m~/anaconda3/lib/python3.8/site-packages/sklearn/linear_model/_base.py\u001b[0m in \u001b[0;36m_decision_function\u001b[0;34m(self, X)\u001b[0m\n\u001b[1;32m    217\u001b[0m \u001b[0;34m\u001b[0m\u001b[0m\n\u001b[1;32m    218\u001b[0m         \u001b[0mX\u001b[0m \u001b[0;34m=\u001b[0m \u001b[0mcheck_array\u001b[0m\u001b[0;34m(\u001b[0m\u001b[0mX\u001b[0m\u001b[0;34m,\u001b[0m \u001b[0maccept_sparse\u001b[0m\u001b[0;34m=\u001b[0m\u001b[0;34m[\u001b[0m\u001b[0;34m'csr'\u001b[0m\u001b[0;34m,\u001b[0m \u001b[0;34m'csc'\u001b[0m\u001b[0;34m,\u001b[0m \u001b[0;34m'coo'\u001b[0m\u001b[0;34m]\u001b[0m\u001b[0;34m)\u001b[0m\u001b[0;34m\u001b[0m\u001b[0;34m\u001b[0m\u001b[0m\n\u001b[0;32m--> 219\u001b[0;31m         return safe_sparse_dot(X, self.coef_.T,\n\u001b[0m\u001b[1;32m    220\u001b[0m                                dense_output=True) + self.intercept_\n\u001b[1;32m    221\u001b[0m \u001b[0;34m\u001b[0m\u001b[0m\n",
      "\u001b[0;32m~/anaconda3/lib/python3.8/site-packages/sklearn/utils/validation.py\u001b[0m in \u001b[0;36minner_f\u001b[0;34m(*args, **kwargs)\u001b[0m\n\u001b[1;32m     71\u001b[0m                           FutureWarning)\n\u001b[1;32m     72\u001b[0m         \u001b[0mkwargs\u001b[0m\u001b[0;34m.\u001b[0m\u001b[0mupdate\u001b[0m\u001b[0;34m(\u001b[0m\u001b[0;34m{\u001b[0m\u001b[0mk\u001b[0m\u001b[0;34m:\u001b[0m \u001b[0marg\u001b[0m \u001b[0;32mfor\u001b[0m \u001b[0mk\u001b[0m\u001b[0;34m,\u001b[0m \u001b[0marg\u001b[0m \u001b[0;32min\u001b[0m \u001b[0mzip\u001b[0m\u001b[0;34m(\u001b[0m\u001b[0msig\u001b[0m\u001b[0;34m.\u001b[0m\u001b[0mparameters\u001b[0m\u001b[0;34m,\u001b[0m \u001b[0margs\u001b[0m\u001b[0;34m)\u001b[0m\u001b[0;34m}\u001b[0m\u001b[0;34m)\u001b[0m\u001b[0;34m\u001b[0m\u001b[0;34m\u001b[0m\u001b[0m\n\u001b[0;32m---> 73\u001b[0;31m         \u001b[0;32mreturn\u001b[0m \u001b[0mf\u001b[0m\u001b[0;34m(\u001b[0m\u001b[0;34m**\u001b[0m\u001b[0mkwargs\u001b[0m\u001b[0;34m)\u001b[0m\u001b[0;34m\u001b[0m\u001b[0;34m\u001b[0m\u001b[0m\n\u001b[0m\u001b[1;32m     74\u001b[0m     \u001b[0;32mreturn\u001b[0m \u001b[0minner_f\u001b[0m\u001b[0;34m\u001b[0m\u001b[0;34m\u001b[0m\u001b[0m\n\u001b[1;32m     75\u001b[0m \u001b[0;34m\u001b[0m\u001b[0m\n",
      "\u001b[0;32m~/anaconda3/lib/python3.8/site-packages/sklearn/utils/extmath.py\u001b[0m in \u001b[0;36msafe_sparse_dot\u001b[0;34m(a, b, dense_output)\u001b[0m\n\u001b[1;32m    151\u001b[0m             \u001b[0mret\u001b[0m \u001b[0;34m=\u001b[0m \u001b[0mnp\u001b[0m\u001b[0;34m.\u001b[0m\u001b[0mdot\u001b[0m\u001b[0;34m(\u001b[0m\u001b[0ma\u001b[0m\u001b[0;34m,\u001b[0m \u001b[0mb\u001b[0m\u001b[0;34m)\u001b[0m\u001b[0;34m\u001b[0m\u001b[0;34m\u001b[0m\u001b[0m\n\u001b[1;32m    152\u001b[0m     \u001b[0;32melse\u001b[0m\u001b[0;34m:\u001b[0m\u001b[0;34m\u001b[0m\u001b[0;34m\u001b[0m\u001b[0m\n\u001b[0;32m--> 153\u001b[0;31m         \u001b[0mret\u001b[0m \u001b[0;34m=\u001b[0m \u001b[0ma\u001b[0m \u001b[0;34m@\u001b[0m \u001b[0mb\u001b[0m\u001b[0;34m\u001b[0m\u001b[0;34m\u001b[0m\u001b[0m\n\u001b[0m\u001b[1;32m    154\u001b[0m \u001b[0;34m\u001b[0m\u001b[0m\n\u001b[1;32m    155\u001b[0m     if (sparse.issparse(a) and sparse.issparse(b)\n",
      "\u001b[0;31mValueError\u001b[0m: matmul: Input operand 1 has a mismatch in its core dimension 0, with gufunc signature (n?,k),(k,m?)->(n?,m?) (size 6 is different from 3)"
     ]
    }
   ],
   "source": [
    "#X is the independent variable (bivariate in this case)\n",
    "\n",
    "#vector is the dependent data\n",
    "\n",
    "vector=a\n",
    "#predict is an independent variable for which we'd like to predict the value\n",
    "predict= [[141], [141]]\n",
    "\n",
    "#generate a model of polynomial features\n",
    "poly = PolynomialFeatures(degree=2)\n",
    "\n",
    "#transform the x data for proper fitting (for single variable type it returns,[1,x,x**2])\n",
    "X_ = poly.fit_transform(X)\n",
    "\n",
    "#transform the prediction to fit the model type\n",
    "predict_ = poly.fit_transform(predict)\n",
    "\n",
    "#here we can remove polynomial orders we don't want\n",
    "#for instance I'm removing the `x` component\n",
    "#X_ = np.delete(X_,(1),axis=1)\n",
    "#predict_ = np.delete(predict_,(1),axis=1)\n",
    "\n",
    "#generate the regression object\n",
    "clf = linear_model.LinearRegression()\n",
    "#preform the actual regression\n",
    "clf.fit(X_, vector)\n",
    "\n",
    "print(\"X_ = \",X_)\n",
    "print(\"predict_ = \",predict_)\n",
    "print(\"Prediction = \",clf.predict(predict_))"
   ]
  },
  {
   "cell_type": "code",
   "execution_count": 121,
   "metadata": {},
   "outputs": [
    {
     "data": {
      "text/plain": [
       "array([[1.0000e+00, 0.0000e+00, 0.0000e+00, 0.0000e+00, 0.0000e+00,\n",
       "        0.0000e+00],\n",
       "       [1.0000e+00, 1.0000e+00, 1.0000e+00, 1.0000e+00, 1.0000e+00,\n",
       "        1.0000e+00],\n",
       "       [1.0000e+00, 2.0000e+00, 2.0000e+00, 4.0000e+00, 4.0000e+00,\n",
       "        4.0000e+00],\n",
       "       [1.0000e+00, 3.0000e+00, 3.0000e+00, 9.0000e+00, 9.0000e+00,\n",
       "        9.0000e+00],\n",
       "       [1.0000e+00, 4.0000e+00, 4.0000e+00, 1.6000e+01, 1.6000e+01,\n",
       "        1.6000e+01],\n",
       "       [1.0000e+00, 5.0000e+00, 5.0000e+00, 2.5000e+01, 2.5000e+01,\n",
       "        2.5000e+01],\n",
       "       [1.0000e+00, 6.0000e+00, 6.0000e+00, 3.6000e+01, 3.6000e+01,\n",
       "        3.6000e+01],\n",
       "       [1.0000e+00, 7.0000e+00, 7.0000e+00, 4.9000e+01, 4.9000e+01,\n",
       "        4.9000e+01],\n",
       "       [1.0000e+00, 8.0000e+00, 8.0000e+00, 6.4000e+01, 6.4000e+01,\n",
       "        6.4000e+01],\n",
       "       [1.0000e+00, 9.0000e+00, 9.0000e+00, 8.1000e+01, 8.1000e+01,\n",
       "        8.1000e+01],\n",
       "       [1.0000e+00, 1.0000e+01, 1.0000e+01, 1.0000e+02, 1.0000e+02,\n",
       "        1.0000e+02],\n",
       "       [1.0000e+00, 1.1000e+01, 1.1000e+01, 1.2100e+02, 1.2100e+02,\n",
       "        1.2100e+02],\n",
       "       [1.0000e+00, 1.2000e+01, 1.2000e+01, 1.4400e+02, 1.4400e+02,\n",
       "        1.4400e+02],\n",
       "       [1.0000e+00, 1.3000e+01, 1.3000e+01, 1.6900e+02, 1.6900e+02,\n",
       "        1.6900e+02],\n",
       "       [1.0000e+00, 1.4000e+01, 1.4000e+01, 1.9600e+02, 1.9600e+02,\n",
       "        1.9600e+02],\n",
       "       [1.0000e+00, 1.5000e+01, 1.5000e+01, 2.2500e+02, 2.2500e+02,\n",
       "        2.2500e+02],\n",
       "       [1.0000e+00, 1.6000e+01, 1.6000e+01, 2.5600e+02, 2.5600e+02,\n",
       "        2.5600e+02],\n",
       "       [1.0000e+00, 1.7000e+01, 1.7000e+01, 2.8900e+02, 2.8900e+02,\n",
       "        2.8900e+02],\n",
       "       [1.0000e+00, 1.8000e+01, 1.8000e+01, 3.2400e+02, 3.2400e+02,\n",
       "        3.2400e+02],\n",
       "       [1.0000e+00, 1.9000e+01, 1.9000e+01, 3.6100e+02, 3.6100e+02,\n",
       "        3.6100e+02],\n",
       "       [1.0000e+00, 2.0000e+01, 2.0000e+01, 4.0000e+02, 4.0000e+02,\n",
       "        4.0000e+02],\n",
       "       [1.0000e+00, 2.1000e+01, 2.1000e+01, 4.4100e+02, 4.4100e+02,\n",
       "        4.4100e+02],\n",
       "       [1.0000e+00, 2.2000e+01, 2.2000e+01, 4.8400e+02, 4.8400e+02,\n",
       "        4.8400e+02],\n",
       "       [1.0000e+00, 2.3000e+01, 2.3000e+01, 5.2900e+02, 5.2900e+02,\n",
       "        5.2900e+02],\n",
       "       [1.0000e+00, 2.4000e+01, 2.4000e+01, 5.7600e+02, 5.7600e+02,\n",
       "        5.7600e+02],\n",
       "       [1.0000e+00, 2.5000e+01, 2.5000e+01, 6.2500e+02, 6.2500e+02,\n",
       "        6.2500e+02],\n",
       "       [1.0000e+00, 2.6000e+01, 2.6000e+01, 6.7600e+02, 6.7600e+02,\n",
       "        6.7600e+02],\n",
       "       [1.0000e+00, 2.7000e+01, 2.7000e+01, 7.2900e+02, 7.2900e+02,\n",
       "        7.2900e+02],\n",
       "       [1.0000e+00, 2.8000e+01, 2.8000e+01, 7.8400e+02, 7.8400e+02,\n",
       "        7.8400e+02],\n",
       "       [1.0000e+00, 2.9000e+01, 2.9000e+01, 8.4100e+02, 8.4100e+02,\n",
       "        8.4100e+02],\n",
       "       [1.0000e+00, 3.0000e+01, 3.0000e+01, 9.0000e+02, 9.0000e+02,\n",
       "        9.0000e+02],\n",
       "       [1.0000e+00, 3.1000e+01, 3.1000e+01, 9.6100e+02, 9.6100e+02,\n",
       "        9.6100e+02],\n",
       "       [1.0000e+00, 3.2000e+01, 3.2000e+01, 1.0240e+03, 1.0240e+03,\n",
       "        1.0240e+03],\n",
       "       [1.0000e+00, 3.3000e+01, 3.3000e+01, 1.0890e+03, 1.0890e+03,\n",
       "        1.0890e+03],\n",
       "       [1.0000e+00, 3.4000e+01, 3.4000e+01, 1.1560e+03, 1.1560e+03,\n",
       "        1.1560e+03],\n",
       "       [1.0000e+00, 3.5000e+01, 3.5000e+01, 1.2250e+03, 1.2250e+03,\n",
       "        1.2250e+03],\n",
       "       [1.0000e+00, 3.6000e+01, 3.6000e+01, 1.2960e+03, 1.2960e+03,\n",
       "        1.2960e+03],\n",
       "       [1.0000e+00, 3.7000e+01, 3.7000e+01, 1.3690e+03, 1.3690e+03,\n",
       "        1.3690e+03],\n",
       "       [1.0000e+00, 3.8000e+01, 3.8000e+01, 1.4440e+03, 1.4440e+03,\n",
       "        1.4440e+03],\n",
       "       [1.0000e+00, 3.9000e+01, 3.9000e+01, 1.5210e+03, 1.5210e+03,\n",
       "        1.5210e+03],\n",
       "       [1.0000e+00, 4.0000e+01, 4.0000e+01, 1.6000e+03, 1.6000e+03,\n",
       "        1.6000e+03],\n",
       "       [1.0000e+00, 4.1000e+01, 4.1000e+01, 1.6810e+03, 1.6810e+03,\n",
       "        1.6810e+03],\n",
       "       [1.0000e+00, 4.2000e+01, 4.2000e+01, 1.7640e+03, 1.7640e+03,\n",
       "        1.7640e+03],\n",
       "       [1.0000e+00, 4.3000e+01, 4.3000e+01, 1.8490e+03, 1.8490e+03,\n",
       "        1.8490e+03],\n",
       "       [1.0000e+00, 4.4000e+01, 4.4000e+01, 1.9360e+03, 1.9360e+03,\n",
       "        1.9360e+03],\n",
       "       [1.0000e+00, 4.5000e+01, 4.5000e+01, 2.0250e+03, 2.0250e+03,\n",
       "        2.0250e+03],\n",
       "       [1.0000e+00, 4.6000e+01, 4.6000e+01, 2.1160e+03, 2.1160e+03,\n",
       "        2.1160e+03],\n",
       "       [1.0000e+00, 4.7000e+01, 4.7000e+01, 2.2090e+03, 2.2090e+03,\n",
       "        2.2090e+03],\n",
       "       [1.0000e+00, 4.8000e+01, 4.8000e+01, 2.3040e+03, 2.3040e+03,\n",
       "        2.3040e+03],\n",
       "       [1.0000e+00, 4.9000e+01, 4.9000e+01, 2.4010e+03, 2.4010e+03,\n",
       "        2.4010e+03],\n",
       "       [1.0000e+00, 5.0000e+01, 5.0000e+01, 2.5000e+03, 2.5000e+03,\n",
       "        2.5000e+03],\n",
       "       [1.0000e+00, 5.1000e+01, 5.1000e+01, 2.6010e+03, 2.6010e+03,\n",
       "        2.6010e+03],\n",
       "       [1.0000e+00, 5.2000e+01, 5.2000e+01, 2.7040e+03, 2.7040e+03,\n",
       "        2.7040e+03],\n",
       "       [1.0000e+00, 5.3000e+01, 5.3000e+01, 2.8090e+03, 2.8090e+03,\n",
       "        2.8090e+03],\n",
       "       [1.0000e+00, 5.4000e+01, 5.4000e+01, 2.9160e+03, 2.9160e+03,\n",
       "        2.9160e+03],\n",
       "       [1.0000e+00, 5.5000e+01, 5.5000e+01, 3.0250e+03, 3.0250e+03,\n",
       "        3.0250e+03],\n",
       "       [1.0000e+00, 5.6000e+01, 5.6000e+01, 3.1360e+03, 3.1360e+03,\n",
       "        3.1360e+03],\n",
       "       [1.0000e+00, 5.7000e+01, 5.7000e+01, 3.2490e+03, 3.2490e+03,\n",
       "        3.2490e+03],\n",
       "       [1.0000e+00, 5.8000e+01, 5.8000e+01, 3.3640e+03, 3.3640e+03,\n",
       "        3.3640e+03],\n",
       "       [1.0000e+00, 5.9000e+01, 5.9000e+01, 3.4810e+03, 3.4810e+03,\n",
       "        3.4810e+03],\n",
       "       [1.0000e+00, 6.0000e+01, 6.0000e+01, 3.6000e+03, 3.6000e+03,\n",
       "        3.6000e+03],\n",
       "       [1.0000e+00, 6.1000e+01, 6.1000e+01, 3.7210e+03, 3.7210e+03,\n",
       "        3.7210e+03],\n",
       "       [1.0000e+00, 6.2000e+01, 6.2000e+01, 3.8440e+03, 3.8440e+03,\n",
       "        3.8440e+03],\n",
       "       [1.0000e+00, 6.3000e+01, 6.3000e+01, 3.9690e+03, 3.9690e+03,\n",
       "        3.9690e+03],\n",
       "       [1.0000e+00, 6.4000e+01, 6.4000e+01, 4.0960e+03, 4.0960e+03,\n",
       "        4.0960e+03],\n",
       "       [1.0000e+00, 6.5000e+01, 6.5000e+01, 4.2250e+03, 4.2250e+03,\n",
       "        4.2250e+03],\n",
       "       [1.0000e+00, 6.6000e+01, 6.6000e+01, 4.3560e+03, 4.3560e+03,\n",
       "        4.3560e+03],\n",
       "       [1.0000e+00, 6.7000e+01, 6.7000e+01, 4.4890e+03, 4.4890e+03,\n",
       "        4.4890e+03],\n",
       "       [1.0000e+00, 6.8000e+01, 6.8000e+01, 4.6240e+03, 4.6240e+03,\n",
       "        4.6240e+03],\n",
       "       [1.0000e+00, 6.9000e+01, 6.9000e+01, 4.7610e+03, 4.7610e+03,\n",
       "        4.7610e+03],\n",
       "       [1.0000e+00, 7.0000e+01, 7.0000e+01, 4.9000e+03, 4.9000e+03,\n",
       "        4.9000e+03],\n",
       "       [1.0000e+00, 7.1000e+01, 7.1000e+01, 5.0410e+03, 5.0410e+03,\n",
       "        5.0410e+03],\n",
       "       [1.0000e+00, 7.2000e+01, 7.2000e+01, 5.1840e+03, 5.1840e+03,\n",
       "        5.1840e+03],\n",
       "       [1.0000e+00, 7.3000e+01, 7.3000e+01, 5.3290e+03, 5.3290e+03,\n",
       "        5.3290e+03],\n",
       "       [1.0000e+00, 7.4000e+01, 7.4000e+01, 5.4760e+03, 5.4760e+03,\n",
       "        5.4760e+03],\n",
       "       [1.0000e+00, 7.5000e+01, 7.5000e+01, 5.6250e+03, 5.6250e+03,\n",
       "        5.6250e+03],\n",
       "       [1.0000e+00, 7.6000e+01, 7.6000e+01, 5.7760e+03, 5.7760e+03,\n",
       "        5.7760e+03],\n",
       "       [1.0000e+00, 7.7000e+01, 7.7000e+01, 5.9290e+03, 5.9290e+03,\n",
       "        5.9290e+03],\n",
       "       [1.0000e+00, 7.8000e+01, 7.8000e+01, 6.0840e+03, 6.0840e+03,\n",
       "        6.0840e+03],\n",
       "       [1.0000e+00, 7.9000e+01, 7.9000e+01, 6.2410e+03, 6.2410e+03,\n",
       "        6.2410e+03],\n",
       "       [1.0000e+00, 8.0000e+01, 8.0000e+01, 6.4000e+03, 6.4000e+03,\n",
       "        6.4000e+03],\n",
       "       [1.0000e+00, 8.1000e+01, 8.1000e+01, 6.5610e+03, 6.5610e+03,\n",
       "        6.5610e+03],\n",
       "       [1.0000e+00, 8.2000e+01, 8.2000e+01, 6.7240e+03, 6.7240e+03,\n",
       "        6.7240e+03],\n",
       "       [1.0000e+00, 8.3000e+01, 8.3000e+01, 6.8890e+03, 6.8890e+03,\n",
       "        6.8890e+03],\n",
       "       [1.0000e+00, 8.4000e+01, 8.4000e+01, 7.0560e+03, 7.0560e+03,\n",
       "        7.0560e+03],\n",
       "       [1.0000e+00, 8.5000e+01, 8.5000e+01, 7.2250e+03, 7.2250e+03,\n",
       "        7.2250e+03],\n",
       "       [1.0000e+00, 8.6000e+01, 8.6000e+01, 7.3960e+03, 7.3960e+03,\n",
       "        7.3960e+03],\n",
       "       [1.0000e+00, 8.7000e+01, 8.7000e+01, 7.5690e+03, 7.5690e+03,\n",
       "        7.5690e+03],\n",
       "       [1.0000e+00, 8.8000e+01, 8.8000e+01, 7.7440e+03, 7.7440e+03,\n",
       "        7.7440e+03],\n",
       "       [1.0000e+00, 8.9000e+01, 8.9000e+01, 7.9210e+03, 7.9210e+03,\n",
       "        7.9210e+03],\n",
       "       [1.0000e+00, 9.0000e+01, 9.0000e+01, 8.1000e+03, 8.1000e+03,\n",
       "        8.1000e+03],\n",
       "       [1.0000e+00, 9.1000e+01, 9.1000e+01, 8.2810e+03, 8.2810e+03,\n",
       "        8.2810e+03],\n",
       "       [1.0000e+00, 9.2000e+01, 9.2000e+01, 8.4640e+03, 8.4640e+03,\n",
       "        8.4640e+03],\n",
       "       [1.0000e+00, 9.3000e+01, 9.3000e+01, 8.6490e+03, 8.6490e+03,\n",
       "        8.6490e+03],\n",
       "       [1.0000e+00, 9.4000e+01, 9.4000e+01, 8.8360e+03, 8.8360e+03,\n",
       "        8.8360e+03],\n",
       "       [1.0000e+00, 9.5000e+01, 9.5000e+01, 9.0250e+03, 9.0250e+03,\n",
       "        9.0250e+03],\n",
       "       [1.0000e+00, 9.6000e+01, 9.6000e+01, 9.2160e+03, 9.2160e+03,\n",
       "        9.2160e+03],\n",
       "       [1.0000e+00, 9.7000e+01, 9.7000e+01, 9.4090e+03, 9.4090e+03,\n",
       "        9.4090e+03],\n",
       "       [1.0000e+00, 9.8000e+01, 9.8000e+01, 9.6040e+03, 9.6040e+03,\n",
       "        9.6040e+03],\n",
       "       [1.0000e+00, 9.9000e+01, 9.9000e+01, 9.8010e+03, 9.8010e+03,\n",
       "        9.8010e+03],\n",
       "       [1.0000e+00, 1.0000e+02, 1.0000e+02, 1.0000e+04, 1.0000e+04,\n",
       "        1.0000e+04],\n",
       "       [1.0000e+00, 1.0100e+02, 1.0100e+02, 1.0201e+04, 1.0201e+04,\n",
       "        1.0201e+04],\n",
       "       [1.0000e+00, 1.0200e+02, 1.0200e+02, 1.0404e+04, 1.0404e+04,\n",
       "        1.0404e+04],\n",
       "       [1.0000e+00, 1.0300e+02, 1.0300e+02, 1.0609e+04, 1.0609e+04,\n",
       "        1.0609e+04],\n",
       "       [1.0000e+00, 1.0400e+02, 1.0400e+02, 1.0816e+04, 1.0816e+04,\n",
       "        1.0816e+04],\n",
       "       [1.0000e+00, 1.0500e+02, 1.0500e+02, 1.1025e+04, 1.1025e+04,\n",
       "        1.1025e+04],\n",
       "       [1.0000e+00, 1.0600e+02, 1.0600e+02, 1.1236e+04, 1.1236e+04,\n",
       "        1.1236e+04],\n",
       "       [1.0000e+00, 1.0700e+02, 1.0700e+02, 1.1449e+04, 1.1449e+04,\n",
       "        1.1449e+04],\n",
       "       [1.0000e+00, 1.0800e+02, 1.0800e+02, 1.1664e+04, 1.1664e+04,\n",
       "        1.1664e+04],\n",
       "       [1.0000e+00, 1.0900e+02, 1.0900e+02, 1.1881e+04, 1.1881e+04,\n",
       "        1.1881e+04],\n",
       "       [1.0000e+00, 1.1000e+02, 1.1000e+02, 1.2100e+04, 1.2100e+04,\n",
       "        1.2100e+04],\n",
       "       [1.0000e+00, 1.1100e+02, 1.1100e+02, 1.2321e+04, 1.2321e+04,\n",
       "        1.2321e+04],\n",
       "       [1.0000e+00, 1.1200e+02, 1.1200e+02, 1.2544e+04, 1.2544e+04,\n",
       "        1.2544e+04],\n",
       "       [1.0000e+00, 1.1300e+02, 1.1300e+02, 1.2769e+04, 1.2769e+04,\n",
       "        1.2769e+04],\n",
       "       [1.0000e+00, 1.1400e+02, 1.1400e+02, 1.2996e+04, 1.2996e+04,\n",
       "        1.2996e+04],\n",
       "       [1.0000e+00, 1.1500e+02, 1.1500e+02, 1.3225e+04, 1.3225e+04,\n",
       "        1.3225e+04],\n",
       "       [1.0000e+00, 1.1600e+02, 1.1600e+02, 1.3456e+04, 1.3456e+04,\n",
       "        1.3456e+04],\n",
       "       [1.0000e+00, 1.1700e+02, 1.1700e+02, 1.3689e+04, 1.3689e+04,\n",
       "        1.3689e+04],\n",
       "       [1.0000e+00, 1.1800e+02, 1.1800e+02, 1.3924e+04, 1.3924e+04,\n",
       "        1.3924e+04],\n",
       "       [1.0000e+00, 1.1900e+02, 1.1900e+02, 1.4161e+04, 1.4161e+04,\n",
       "        1.4161e+04],\n",
       "       [1.0000e+00, 1.2000e+02, 1.2000e+02, 1.4400e+04, 1.4400e+04,\n",
       "        1.4400e+04],\n",
       "       [1.0000e+00, 1.2100e+02, 1.2100e+02, 1.4641e+04, 1.4641e+04,\n",
       "        1.4641e+04],\n",
       "       [1.0000e+00, 1.2200e+02, 1.2200e+02, 1.4884e+04, 1.4884e+04,\n",
       "        1.4884e+04],\n",
       "       [1.0000e+00, 1.2300e+02, 1.2300e+02, 1.5129e+04, 1.5129e+04,\n",
       "        1.5129e+04],\n",
       "       [1.0000e+00, 1.2400e+02, 1.2400e+02, 1.5376e+04, 1.5376e+04,\n",
       "        1.5376e+04],\n",
       "       [1.0000e+00, 1.2500e+02, 1.2500e+02, 1.5625e+04, 1.5625e+04,\n",
       "        1.5625e+04],\n",
       "       [1.0000e+00, 1.2600e+02, 1.2600e+02, 1.5876e+04, 1.5876e+04,\n",
       "        1.5876e+04],\n",
       "       [1.0000e+00, 1.2700e+02, 1.2700e+02, 1.6129e+04, 1.6129e+04,\n",
       "        1.6129e+04],\n",
       "       [1.0000e+00, 1.2800e+02, 1.2800e+02, 1.6384e+04, 1.6384e+04,\n",
       "        1.6384e+04],\n",
       "       [1.0000e+00, 1.2900e+02, 1.2900e+02, 1.6641e+04, 1.6641e+04,\n",
       "        1.6641e+04],\n",
       "       [1.0000e+00, 1.3000e+02, 1.3000e+02, 1.6900e+04, 1.6900e+04,\n",
       "        1.6900e+04],\n",
       "       [1.0000e+00, 1.3100e+02, 1.3100e+02, 1.7161e+04, 1.7161e+04,\n",
       "        1.7161e+04],\n",
       "       [1.0000e+00, 1.3200e+02, 1.3200e+02, 1.7424e+04, 1.7424e+04,\n",
       "        1.7424e+04],\n",
       "       [1.0000e+00, 1.3300e+02, 1.3300e+02, 1.7689e+04, 1.7689e+04,\n",
       "        1.7689e+04],\n",
       "       [1.0000e+00, 1.3400e+02, 1.3400e+02, 1.7956e+04, 1.7956e+04,\n",
       "        1.7956e+04],\n",
       "       [1.0000e+00, 1.3500e+02, 1.3500e+02, 1.8225e+04, 1.8225e+04,\n",
       "        1.8225e+04],\n",
       "       [1.0000e+00, 1.3600e+02, 1.3600e+02, 1.8496e+04, 1.8496e+04,\n",
       "        1.8496e+04],\n",
       "       [1.0000e+00, 1.3700e+02, 1.3700e+02, 1.8769e+04, 1.8769e+04,\n",
       "        1.8769e+04],\n",
       "       [1.0000e+00, 1.3800e+02, 1.3800e+02, 1.9044e+04, 1.9044e+04,\n",
       "        1.9044e+04],\n",
       "       [1.0000e+00, 1.3900e+02, 1.3900e+02, 1.9321e+04, 1.9321e+04,\n",
       "        1.9321e+04]])"
      ]
     },
     "execution_count": 121,
     "metadata": {},
     "output_type": "execute_result"
    }
   ],
   "source": [
    "X_"
   ]
  },
  {
   "cell_type": "code",
   "execution_count": 98,
   "metadata": {},
   "outputs": [
    {
     "data": {
      "text/plain": [
       "array([[0.28799232],\n",
       "       [0.36116241],\n",
       "       [0.43108326],\n",
       "       [0.60342209],\n",
       "       [0.70215566],\n",
       "       [0.78809954],\n",
       "       [0.79747327],\n",
       "       [0.95281267],\n",
       "       [1.02049549],\n",
       "       [1.03210265],\n",
       "       [1.32048237],\n",
       "       [1.41243036],\n",
       "       [1.43034951],\n",
       "       [1.45716946],\n",
       "       [1.56186148],\n",
       "       [1.76823679],\n",
       "       [2.03219059],\n",
       "       [2.34541098],\n",
       "       [2.5477566 ],\n",
       "       [2.572695  ],\n",
       "       [2.67629046],\n",
       "       [2.87423529],\n",
       "       [2.91756384],\n",
       "       [3.13614461],\n",
       "       [3.139033  ],\n",
       "       [3.30764958],\n",
       "       [3.99727874],\n",
       "       [4.06508717],\n",
       "       [4.09914539],\n",
       "       [4.24408565],\n",
       "       [4.26726939],\n",
       "       [4.4372032 ],\n",
       "       [4.48297597],\n",
       "       [4.55741666],\n",
       "       [4.59460688],\n",
       "       [4.63596473],\n",
       "       [4.79860853],\n",
       "       [4.81930345],\n",
       "       [4.87212796],\n",
       "       [4.93761004]])"
      ]
     },
     "execution_count": 98,
     "metadata": {},
     "output_type": "execute_result"
    }
   ],
   "source": [
    "X"
   ]
  },
  {
   "cell_type": "code",
   "execution_count": null,
   "metadata": {},
   "outputs": [],
   "source": []
  }
 ],
 "metadata": {
  "kernelspec": {
   "display_name": "Python 3",
   "language": "python",
   "name": "python3"
  },
  "language_info": {
   "codemirror_mode": {
    "name": "ipython",
    "version": 3
   },
   "file_extension": ".py",
   "mimetype": "text/x-python",
   "name": "python",
   "nbconvert_exporter": "python",
   "pygments_lexer": "ipython3",
   "version": "3.8.3"
  }
 },
 "nbformat": 4,
 "nbformat_minor": 4
}
