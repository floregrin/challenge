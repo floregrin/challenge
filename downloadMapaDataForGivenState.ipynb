{
 "cells": [
  {
   "cell_type": "code",
   "execution_count": 1,
   "metadata": {},
   "outputs": [],
   "source": [
    "from datetime import date\n",
    "\n",
    "import covidcast\n",
    "import pandas as pd \n",
    "import numpy as np\n",
    "%matplotlib inline\n",
    "import matplotlib.pyplot as plt\n",
    "\n"
   ]
  },
  {
   "cell_type": "markdown",
   "metadata": {},
   "source": [
    "Target: conseguir un DataFrame para un estado con las siguientes columnas\n",
    "\n",
    "Away from Home 6hr+ (SG), \n",
    "\n",
    "Away from Home 3-6hr (SG), \n",
    "\n",
    "Search Trends (Google), \n",
    "\n",
    "Doctor Visits, \n",
    "\n",
    "Symptoms (FB), \n",
    "\n",
    "Symptoms in Community (FB), \n",
    "\n",
    "Combined, \n",
    "\n",
    "COVID-19 Antigen Tests (Quidel), \n",
    "\n",
    "Hospital Admissions, \n",
    "\n",
    "Cases, \n",
    "\n",
    "Deaths"
   ]
  },
  {
   "cell_type": "markdown",
   "metadata": {},
   "source": [
    "    columnName              Source       Signal\n",
    "\n",
    "Away from Home 6hr+ (SG), safegraph \tfull_time_work_prop\n",
    "\n",
    "Away from Home 3-6hr (SG), safegraph \tpart_time_work_prop\n",
    "\n",
    "Search Trends (Google), ght \tsmoothed_search\n",
    "\n",
    "Doctor Visits, doctor-visits \tsmoothed_adj_cli\n",
    "\n",
    "Symptoms (FB), fb-survey \tsmoothed_cli\n",
    "\n",
    "Symptoms in Community (FB), fb-survey \tsmoothed_hh_cmnty_cli\n",
    "\n",
    "Combined, indicator-combination \tnmf_day_doc_fbc_fbs_ght\n",
    "\n",
    "COVID-19 Antigen Tests (Quidel), quidel \tcovid_ag_smoothed_pct_positive\n",
    "\n",
    "Hospital Admissions, hospital-admissions \tsmoothed_adj_covid19\n",
    "\n",
    "Cases, indicator-combination \tconfirmed_7dav_incidence_num\n",
    "\n",
    "Deaths indicator-combination \tdeaths_7dav_incidence_num\n",
    "\n",
    "#### ver referencias.csv"
   ]
  },
  {
   "cell_type": "markdown",
   "metadata": {},
   "source": [
    "vamos a buscar los valores para determinado estado, entonces \n",
    "\n",
    "tenemos que meter en la query los parametros **geo_type=\"state\"**, **geo_values=\"xx\"** donde xx son algunas de las iniciales de los estados https://pe.usps.com/text/pub28/28apb.htm\n",
    "\n",
    "ademas los datos del mapa empiezan el **5/16** y terminan el **9/13** "
   ]
  },
  {
   "cell_type": "markdown",
   "metadata": {},
   "source": [
    "elegimos ej Louisiana -> estado=\"la\""
   ]
  },
  {
   "cell_type": "code",
   "execution_count": 2,
   "metadata": {},
   "outputs": [],
   "source": [
    "estado = \"la\""
   ]
  },
  {
   "cell_type": "code",
   "execution_count": null,
   "metadata": {},
   "outputs": [],
   "source": [
    "c1 = covidcast.signal(\"safegraph\",\"full_time_work_prop\",date(2020, 5, 16), date(2020, 9, 13), geo_type=\"state\", geo_values=estado)"
   ]
  },
  {
   "cell_type": "code",
   "execution_count": null,
   "metadata": {},
   "outputs": [],
   "source": [
    "c2 = covidcast.signal(\"safegraph\",\"part_time_work_prop\",date(2020, 5, 16), date(2020, 9, 13), geo_type=\"state\", geo_values=estado)"
   ]
  },
  {
   "cell_type": "code",
   "execution_count": null,
   "metadata": {},
   "outputs": [],
   "source": [
    "c3 = covidcast.signal(\"ght\",\"smoothed_search\", date(2020, 5, 16), date(2020, 9, 13), geo_type=\"state\", geo_values=estado)"
   ]
  },
  {
   "cell_type": "code",
   "execution_count": null,
   "metadata": {},
   "outputs": [],
   "source": [
    "c4 = covidcast.signal(\"doctor-visits\",\"smoothed_adj_cli\", date(2020, 5, 16), date(2020, 9, 13), geo_type=\"state\", geo_values=estado)"
   ]
  },
  {
   "cell_type": "code",
   "execution_count": null,
   "metadata": {},
   "outputs": [],
   "source": [
    "c5 = covidcast.signal(\"fb-survey\",\"smoothed_cli\",date(2020, 5, 16), date(2020, 9, 13), geo_type=\"state\", geo_values=estado)"
   ]
  },
  {
   "cell_type": "code",
   "execution_count": null,
   "metadata": {},
   "outputs": [],
   "source": [
    "c6 = covidcast.signal(\"fb-survey\",\"smoothed_hh_cmnty_cli\",date(2020, 5, 16), date(2020, 9, 13), geo_type=\"state\", geo_values=estado)"
   ]
  },
  {
   "cell_type": "code",
   "execution_count": null,
   "metadata": {},
   "outputs": [],
   "source": [
    "c7 = covidcast.signal(\"indicator-combination\",\"nmf_day_doc_fbc_fbs_ght\", date(2020, 5, 16), date(2020, 9, 13),geo_type=\"state\", geo_values=estado)"
   ]
  },
  {
   "cell_type": "code",
   "execution_count": null,
   "metadata": {},
   "outputs": [],
   "source": [
    "c8 = covidcast.signal(\"quidel\",\"covid_ag_smoothed_pct_positive\", date(2020, 5, 16), date(2020, 9, 13),geo_type=\"state\", geo_values=estado)"
   ]
  },
  {
   "cell_type": "code",
   "execution_count": null,
   "metadata": {},
   "outputs": [],
   "source": [
    "c9 = covidcast.signal(\"hospital-admissions\",\"smoothed_adj_covid19\", date(2020, 5, 16), date(2020, 9, 13),geo_type=\"state\", geo_values=estado)"
   ]
  },
  {
   "cell_type": "code",
   "execution_count": null,
   "metadata": {},
   "outputs": [],
   "source": [
    "c10 = covidcast.signal(\"indicator-combination\",\"confirmed_7dav_incidence_num\", date(2020, 5, 16), date(2020, 9, 13),geo_type=\"state\", geo_values=estado)"
   ]
  },
  {
   "cell_type": "code",
   "execution_count": null,
   "metadata": {},
   "outputs": [],
   "source": [
    "c11 = covidcast.signal(\"indicator-combination\",\"deaths_7dav_incidence_num\", date(2020, 5, 16), date(2020, 9, 13),geo_type=\"state\", geo_values=estado)"
   ]
  },
  {
   "cell_type": "code",
   "execution_count": null,
   "metadata": {},
   "outputs": [],
   "source": [
    "cols = ['time_value','value']\n",
    "df_outer = pd.merge(c1[cols], c2[cols], on='time_value', how='outer')\n",
    "df_outer = pd.merge(df_outer, c3[cols], on='time_value', how='outer')\n",
    "df_outer = pd.merge(df_outer, c4[cols], on='time_value', how='outer')\n",
    "df_outer = pd.merge(df_outer, c5[cols], on='time_value', how='outer')\n",
    "df_outer = pd.merge(df_outer, c6[cols], on='time_value', how='outer')\n",
    "df_outer = pd.merge(df_outer, c7[cols], on='time_value', how='outer')\n",
    "df_outer = pd.merge(df_outer, c8[cols], on='time_value', how='outer')\n",
    "df_outer = pd.merge(df_outer, c9[cols], on='time_value', how='outer')\n",
    "df_outer = pd.merge(df_outer, c10[cols], on='time_value', how='outer')\n",
    "df_outer = pd.merge(df_outer, c11[cols], on='time_value', how='outer')"
   ]
  },
  {
   "cell_type": "code",
   "execution_count": null,
   "metadata": {},
   "outputs": [],
   "source": [
    "columnNames = ['time_value','full_time_work_prop', 'part_time_work_prop', 'smoothed_search', \n",
    "               'smoothed_adj_cli', 'smoothed_cli', 'smoothed_hh_cmnty_cli',\n",
    "              'nmf_day_doc_fbc_fbs_ght', 'covid_ag_smoothed_pct_positive',\n",
    "              'smoothed_adj_covid19', 'confirmed_7dav_incidence_num', 'deaths_7dav_incidence_num']"
   ]
  },
  {
   "cell_type": "code",
   "execution_count": null,
   "metadata": {},
   "outputs": [],
   "source": [
    "df_outer.columns=columnNames"
   ]
  },
  {
   "cell_type": "code",
   "execution_count": null,
   "metadata": {},
   "outputs": [],
   "source": [
    "df_outer.head()"
   ]
  }
 ],
 "metadata": {
  "kernelspec": {
   "display_name": "Python 3",
   "language": "python",
   "name": "python3"
  },
  "language_info": {
   "codemirror_mode": {
    "name": "ipython",
    "version": 3
   },
   "file_extension": ".py",
   "mimetype": "text/x-python",
   "name": "python",
   "nbconvert_exporter": "python",
   "pygments_lexer": "ipython3",
   "version": "3.8.3"
  }
 },
 "nbformat": 4,
 "nbformat_minor": 4
}
